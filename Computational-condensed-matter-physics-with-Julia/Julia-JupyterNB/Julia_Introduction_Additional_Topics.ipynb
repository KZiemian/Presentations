{
 "cells": [
  {
   "cell_type": "markdown",
   "metadata": {},
   "source": [
    "# Loading libraries"
   ]
  },
  {
   "cell_type": "code",
   "execution_count": null,
   "metadata": {},
   "outputs": [],
   "source": [
    "# import Pkg; Pkg.add([\"Colors\", \"Plots\", \"Libdl\", \"BenchmarkTools\", \"Statistics\", \"Measurements\"])\n",
    "using Colors, Plots, Libdl, BenchmarkTools, Statistics, Measurements"
   ]
  },
  {
   "cell_type": "markdown",
   "metadata": {},
   "source": [
    "## Random numbers and random matrics"
   ]
  },
  {
   "cell_type": "code",
   "execution_count": null,
   "metadata": {},
   "outputs": [],
   "source": [
    "rand(5)"
   ]
  },
  {
   "cell_type": "code",
   "execution_count": null,
   "metadata": {},
   "outputs": [],
   "source": [
    "?rand"
   ]
  },
  {
   "cell_type": "code",
   "execution_count": null,
   "metadata": {},
   "outputs": [],
   "source": [
    "randn(5)"
   ]
  },
  {
   "cell_type": "code",
   "execution_count": null,
   "metadata": {},
   "outputs": [],
   "source": [
    "rand(3, 3)"
   ]
  },
  {
   "cell_type": "code",
   "execution_count": null,
   "metadata": {},
   "outputs": [],
   "source": [
    "randn(3, 3)"
   ]
  },
  {
   "cell_type": "code",
   "execution_count": null,
   "metadata": {},
   "outputs": [],
   "source": [
    "rand(3, 3, 3)"
   ]
  },
  {
   "cell_type": "code",
   "execution_count": null,
   "metadata": {},
   "outputs": [],
   "source": [
    "randn(3, 3, 3)"
   ]
  },
  {
   "cell_type": "code",
   "execution_count": null,
   "metadata": {},
   "outputs": [],
   "source": [
    "1:7"
   ]
  },
  {
   "cell_type": "code",
   "execution_count": null,
   "metadata": {},
   "outputs": [],
   "source": [
    "rand(1:7, 3, 3)"
   ]
  },
  {
   "cell_type": "code",
   "execution_count": null,
   "metadata": {},
   "outputs": [],
   "source": [
    "palette = distinguishable_colors(20)"
   ]
  },
  {
   "cell_type": "code",
   "execution_count": null,
   "metadata": {},
   "outputs": [],
   "source": [
    "rand(palette, 5, 5)"
   ]
  },
  {
   "cell_type": "markdown",
   "metadata": {},
   "source": [
    "## Defining new `Numbers` types\n",
    "![Julia hierarchy of numbers](../SeminarPictures/Julia-number-type-hierarchy.svg)"
   ]
  },
  {
   "cell_type": "code",
   "execution_count": null,
   "metadata": {},
   "outputs": [],
   "source": [
    "subtypes(AbstractFloat)"
   ]
  },
  {
   "cell_type": "code",
   "execution_count": null,
   "metadata": {},
   "outputs": [],
   "source": [
    "a = measurement(4.5, 0.5)"
   ]
  },
  {
   "cell_type": "markdown",
   "metadata": {},
   "source": [
    "## $b = 3 \\pm 0.2$"
   ]
  },
  {
   "cell_type": "code",
   "execution_count": null,
   "metadata": {},
   "outputs": [],
   "source": [
    "a = 4.5 ± 0.1\n",
    "b = 4.5 ± 0.1"
   ]
  },
  {
   "cell_type": "code",
   "execution_count": null,
   "metadata": {},
   "outputs": [],
   "source": [
    "a + b"
   ]
  },
  {
   "cell_type": "code",
   "execution_count": null,
   "metadata": {},
   "outputs": [],
   "source": [
    "a - b"
   ]
  },
  {
   "cell_type": "code",
   "execution_count": null,
   "metadata": {},
   "outputs": [],
   "source": [
    "a - a"
   ]
  },
  {
   "cell_type": "code",
   "execution_count": null,
   "metadata": {},
   "outputs": [],
   "source": [
    "typeof(a)"
   ]
  },
  {
   "cell_type": "markdown",
   "metadata": {},
   "source": [
    "## There are lies, big lies and benchmarks\n",
    "\n",
    "Examples taken from\n",
    "[*Julia is fast*](https://github.com/JuliaComputing/JuliaBoxTutorials/blob/master/introductory-tutorials/intro-to-julia/09.%20Julia%20is%20fast.ipynb) at JuliaComputing GitHub account. There are based on [lecture](https://github.com/mitmath/18S096/blob/master/lectures/lecture1/Boxes-and-registers.ipynb) by Steven G. Johnson form MIT. He is creator of Fastest Fourier Transform in the West (FFTW).\n",
    "\n",
    "We test speed of Julia using simple case of function summing elements of vector $V$ with $N = 10^{ 7 }$ random Floats64 from $[ 0, 1 )$.\n",
    "\\begin{equation}\n",
    "    \\textrm{sum}(V) = \\sum_{ i = 1 }^{ N } V_{ i }\n",
    "\\end{equation}\n",
    "\n",
    "## Function in Julia are faster that \"free\" code."
   ]
  },
  {
   "cell_type": "code",
   "execution_count": null,
   "metadata": {},
   "outputs": [],
   "source": [
    "gr()\n",
    "V = rand(10^7)  # 1D vector of random numbers, uniform on [0,1)"
   ]
  },
  {
   "cell_type": "code",
   "execution_count": null,
   "metadata": {},
   "outputs": [],
   "source": [
    "sum(V) / 10^7"
   ]
  },
  {
   "cell_type": "markdown",
   "metadata": {},
   "source": [
    "## 1. The C language, by `gcc`\n",
    "\n",
    "### I don't write this C code."
   ]
  },
  {
   "cell_type": "code",
   "execution_count": null,
   "metadata": {},
   "outputs": [],
   "source": [
    "C_code = \"\"\"\n",
    "#include <stddef.h>\n",
    "double c_sum(size_t n, double *X) {\n",
    "    double s = 0.0;\n",
    "    for (size_t i = 0; i < n; ++i) {\n",
    "        s += X[i];\n",
    "    }\n",
    "    return s;\n",
    "}\n",
    "\"\"\"\n",
    "\n",
    "const Clib = tempname()   # make a temporary file\n",
    "\n",
    "\n",
    "# compile to a shared library by piping C_code to gcc\n",
    "# (works only if you have gcc installed):\n",
    "\n",
    "open(`gcc -fPIC -O3 -msse3 -xc -shared -o $(Clib * \".\" * Libdl.dlext) -`, \"w\") do f\n",
    "    print(f, C_code) \n",
    "end\n",
    "\n",
    "# define a Julia function that calls the C function:\n",
    "c_sum(X::Array{Float64}) = ccall((\"c_sum\", Clib), Float64, (Csize_t, Ptr{Float64}), length(X), X)"
   ]
  },
  {
   "cell_type": "markdown",
   "metadata": {},
   "source": [
    "### Approx"
   ]
  },
  {
   "cell_type": "code",
   "execution_count": null,
   "metadata": {},
   "outputs": [],
   "source": []
  },
  {
   "cell_type": "code",
   "execution_count": null,
   "metadata": {
    "scrolled": true
   },
   "outputs": [],
   "source": [
    "(c_sum(V) - sum(V)) / 10^7"
   ]
  },
  {
   "cell_type": "code",
   "execution_count": null,
   "metadata": {},
   "outputs": [],
   "source": [
    "c_bench = @benchmark c_sum($V)"
   ]
  },
  {
   "cell_type": "markdown",
   "metadata": {},
   "source": [
    "## We creat efficient dictionary"
   ]
  },
  {
   "cell_type": "code",
   "execution_count": null,
   "metadata": {
    "scrolled": true
   },
   "outputs": [],
   "source": [
    "d_min = Dict(\"C\" => minimum(c_bench.times) / 1e6)\n",
    "d_med = Dict(\"C\" => median(c_bench.times) / 1e6)"
   ]
  },
  {
   "cell_type": "code",
   "execution_count": null,
   "metadata": {},
   "outputs": [],
   "source": [
    "t_c = c_bench.times / 1e6"
   ]
  },
  {
   "cell_type": "code",
   "execution_count": null,
   "metadata": {},
   "outputs": [],
   "source": [
    "min_t = 3.0\n",
    "max_t = 30.0\n",
    "\n",
    "histogram(t_c, bins=500,\n",
    "             title=\"Benchmarks for hand-written C\",\n",
    "             xlim=(min_t, max_t),\n",
    "             xlabel=\"milliseconds\", ylabel=\"number of events\", label=\"\")"
   ]
  },
  {
   "cell_type": "markdown",
   "metadata": {},
   "source": [
    "## 2. C with `gcc -ffast-math`\n",
    "\n",
    "### I don't write this code either."
   ]
  },
  {
   "cell_type": "code",
   "execution_count": null,
   "metadata": {},
   "outputs": [],
   "source": [
    "const Clib_fastmath = tempname()   # make a temporary file\n",
    "\n",
    "# The same as above but with a -ffast-math flag added\n",
    "open(`gcc -fPIC -O3 -msse3 -xc -shared -ffast-math -o $(Clib_fastmath * \".\" * Libdl.dlext) -`, \"w\") do f\n",
    "    print(f, C_code) \n",
    "end\n",
    "\n",
    "# define a Julia function that calls the C function:\n",
    "c_sum_fastmath(X::Array{Float64}) = ccall((\"c_sum\", Clib_fastmath), Float64, (Csize_t, Ptr{Float64}), length(X), X)"
   ]
  },
  {
   "cell_type": "code",
   "execution_count": null,
   "metadata": {
    "scrolled": true
   },
   "outputs": [],
   "source": [
    "c_fastmath_bench = @benchmark $c_sum_fastmath($V)\n",
    "d_min[\"C -ffast-math\"] = minimum(c_fastmath_bench.times) / 1e6  # in milliseconds\n",
    "d_med[\"C -ffast-math\"] = median(c_fastmath_bench.times) / 1e6\n",
    "\n",
    "t_c_fastmath = c_fastmath_bench.times / 1e6 # times in milliseconds"
   ]
  },
  {
   "cell_type": "code",
   "execution_count": null,
   "metadata": {},
   "outputs": [],
   "source": [
    "min_t = 3.0\n",
    "max_t = 30.0\n",
    "\n",
    "histogram(t_c_fastmath, bins=500,\n",
    "             title=\"Benchmarks for hand-written C with -ffast-math\",\n",
    "             xlim=(min_t, max_t),\n",
    "             xlabel=\"milliseconds\", ylabel=\"number of events\", label=\"\")"
   ]
  },
  {
   "cell_type": "markdown",
   "metadata": {},
   "source": [
    "## 3. Julia built-in `sum`"
   ]
  },
  {
   "cell_type": "code",
   "execution_count": null,
   "metadata": {},
   "outputs": [],
   "source": [
    "@which sum(V)  # This code on GitHub tell you probably nothing"
   ]
  },
  {
   "cell_type": "code",
   "execution_count": null,
   "metadata": {},
   "outputs": [],
   "source": [
    "j_bench = @benchmark sum($V)\n",
    "d_min[\"Julia built-in\"] = minimum(j_bench.times) / 1e6  # in milliseconds\n",
    "d_med[\"Julia built-in\"] = median(j_bench.times) / 1e6\n",
    "\n",
    "t_j = j_bench.times / 1e6 # times in milliseconds\n",
    "\n",
    "\n",
    "histogram(t_j, bins=500,\n",
    "             title=\"Benchmarks for Julia built-in sum function\",\n",
    "             xlim=(min_t, max_t),\n",
    "             xlabel=\"milliseconds\", ylabel=\"number of events\", label=\"\")"
   ]
  },
  {
   "cell_type": "code",
   "execution_count": null,
   "metadata": {},
   "outputs": [],
   "source": [
    "min_t = 3.0\n",
    "max_t = 10.0\n",
    "\n",
    "histogram(t_j, bins=500,\n",
    "             title=\"Benchmarks for Julia built-in sum function\",\n",
    "             xlim=(min_t, max_t),\n",
    "             xlabel=\"milliseconds\", ylabel=\"number of events\", label=\"\")"
   ]
  },
  {
   "cell_type": "markdown",
   "metadata": {},
   "source": [
    "## 4. Julia hand-written `my_sum`"
   ]
  },
  {
   "cell_type": "code",
   "execution_count": null,
   "metadata": {},
   "outputs": [],
   "source": [
    "function my_sum(V)   \n",
    "    s = zero(eltype(V))\n",
    "    for v in V\n",
    "        s += v\n",
    "    end\n",
    "    s\n",
    "end\n",
    "\n",
    "j_bench_hand = @benchmark my_sum($V)\n",
    "d_min[\"Julia hand-written\"] = minimum(j_bench_hand.times) / 1e6  # in milliseconds\n",
    "d_med[\"Julia hand-written\"] = median(j_bench_hand.times) / 1e6\n",
    "\n",
    "t_my_sum = j_bench_hand.times / 1e6  # times in milliseconds\n",
    "\n",
    "histogram(t_my_sum, bins=500,\n",
    "                    title=\"Benchmarks for Julia hand-written sum function\",\n",
    "                    xlim=(min_t, max_t),\n",
    "                    xlabel=\"milliseconds\", ylabel=\"number of events\", label=\"\")"
   ]
  },
  {
   "cell_type": "code",
   "execution_count": null,
   "metadata": {},
   "outputs": [],
   "source": [
    "min_t = 3.0\n",
    "max_t = 30.0\n",
    "\n",
    "histogram(t_my_sum, bins=500,\n",
    "             title=\"Benchmarks for Julia hand-written sum function\",\n",
    "             xlim=(min_t, max_t),\n",
    "             xlabel=\"milliseconds\", ylabel=\"number of events\", label=\"\")"
   ]
  },
  {
   "cell_type": "markdown",
   "metadata": {},
   "source": [
    "## Julia hand-written `my_sum_simd` with `@simd` instruction"
   ]
  },
  {
   "cell_type": "code",
   "execution_count": null,
   "metadata": {},
   "outputs": [],
   "source": [
    "?@simd"
   ]
  },
  {
   "cell_type": "code",
   "execution_count": null,
   "metadata": {},
   "outputs": [],
   "source": [
    "function my_sum_simd(V)   \n",
    "    s = zero(eltype(V))\n",
    "    @simd for v in V\n",
    "        s += v\n",
    "    end\n",
    "    s\n",
    "end\n",
    "\n",
    "j_bench_hand_simd = @benchmark my_sum_simd($V)\n",
    "d_min[\"Julia hand-written simd\"] = minimum(j_bench_hand_simd.times) / 1e6  # in milliseconds\n",
    "d_med[\"Julia hand-written simd\"] = median(j_bench_hand_simd.times) / 1e6\n",
    "\n",
    "t_simd = j_bench_hand_simd.times / 1e6  # times in milliseconds\n",
    "\n",
    "histogram(t_simd, bins=500,\n",
    "             title=\"Benchmarks for Julia hand-written sum function with @smid\",\n",
    "             xlim=(min_t, max_t),\n",
    "             xlabel=\"milliseconds\", ylabel=\"count\", label=\"\")"
   ]
  },
  {
   "cell_type": "markdown",
   "metadata": {},
   "source": [
    "## Summary of benchmarking"
   ]
  },
  {
   "cell_type": "code",
   "execution_count": null,
   "metadata": {},
   "outputs": [],
   "source": [
    "println(\"Median of time of computing sum(V)\")\n",
    "for (key, value) in sort(collect(d_med), by=last)\n",
    "    println(rpad(key, 26, \".\"), lpad(round(value; digits=5), 6, \".\"))\n",
    "end\n",
    "\n",
    "println(\"\\n\\n\\nMinimal time of computing sum(V)\")\n",
    "for (key, value) in sort(collect(d_min), by=last)\n",
    "    println(rpad(key, 26, \".\"), lpad(round(value; digits=5), 6, \".\"))\n",
    "end"
   ]
  },
  {
   "cell_type": "code",
   "execution_count": null,
   "metadata": {
    "scrolled": true
   },
   "outputs": [],
   "source": [
    "println(\"Julia hand-written my_sum have median $(round(100 * d_med[\"C\"] / d_med[\"Julia hand-written\"]; digits=2))% of speed of hand-written C speed.\")"
   ]
  },
  {
   "cell_type": "code",
   "execution_count": null,
   "metadata": {},
   "outputs": [],
   "source": [
    "?round"
   ]
  },
  {
   "cell_type": "code",
   "execution_count": null,
   "metadata": {},
   "outputs": [],
   "source": []
  },
  {
   "cell_type": "code",
   "execution_count": null,
   "metadata": {},
   "outputs": [],
   "source": []
  },
  {
   "cell_type": "code",
   "execution_count": null,
   "metadata": {},
   "outputs": [],
   "source": []
  },
  {
   "cell_type": "code",
   "execution_count": null,
   "metadata": {},
   "outputs": [],
   "source": []
  },
  {
   "cell_type": "markdown",
   "metadata": {},
   "source": [
    "## Bad code is slow, good code is, mostly, fast"
   ]
  },
  {
   "cell_type": "code",
   "execution_count": null,
   "metadata": {},
   "outputs": [],
   "source": [
    "v = rand(10^7)\n",
    "\n",
    "function sum_bad(V)\n",
    "    s = zero(eltype(v))\n",
    "    for v in V\n",
    "        s += v\n",
    "    end\n",
    "    s\n",
    "end\n",
    "\n",
    "function sum_good(V)\n",
    "    s = zero(eltype(V))\n",
    "    for v in V\n",
    "        s += v\n",
    "    end\n",
    "    s\n",
    "end"
   ]
  },
  {
   "cell_type": "code",
   "execution_count": null,
   "metadata": {},
   "outputs": [],
   "source": [
    "sum_bad_bench = @benchmark sum_bad($v)\n",
    "sum_good_bench = @benchmark sum_good($v)\n",
    "\n",
    "t_bad = sum_bad_bench.times / 1e6\n",
    "t_good = sum_good_bench.times / 1e6\n",
    "\n",
    "bad_dict = Dict(\"Minimum time\" => minimum(t_bad))\n",
    "bad_dict[\"Median time\"] = median(t_bad)\n",
    "bad_dict[\"Maximum time\"] = maximum(t_bad)\n",
    "\n",
    "good_dict = Dict(\"Minimum time\" => minimum(t_good))\n",
    "good_dict[\"Median time\"] = median(t_good)\n",
    "good_dict[\"Maximum time\"] = maximum(t_bad)"
   ]
  },
  {
   "cell_type": "code",
   "execution_count": null,
   "metadata": {},
   "outputs": [],
   "source": [
    "t₀ = 0.0\n",
    "t₁ = bad_dict[\"Maximum time\"] + 50\n",
    "\n",
    "\n",
    "histogram(t_good, bins=4,\n",
    "                 title=\"Good Julia vs bad Julia\",\n",
    "                 xlim=(t₀, t₁),\n",
    "                 ylim=(-5, 100),\n",
    "                 xlabel=\"miliseconds\", ylabel=\"count\", label=\"Good code\")\n",
    "\n",
    "histogram!(t_bad, bins=4,\n",
    "                   label=\"Bad code\")"
   ]
  },
  {
   "cell_type": "code",
   "execution_count": null,
   "metadata": {},
   "outputs": [],
   "source": [
    "println(\"Median time of bad code is $(bad_dict[\"Median time\"] / good_dict[\"Median time\"]) times bigger than that of good code.\")"
   ]
  },
  {
   "cell_type": "code",
   "execution_count": null,
   "metadata": {},
   "outputs": [],
   "source": [
    "println(\"Results for sum_bad in miliseconds [ms]\")\n",
    "for (key, value) in sort(collect(bad_dict), by=last)\n",
    "    println(rpad(key, 26, \".\"), lpad(round(value; digits=5), 6, \".\"))\n",
    "end\n",
    "\n",
    "println(\"\\n\\n\\nResults for sum_good in miliseconds [ms]\")\n",
    "for (key, value) in sort(collect(good_dict), by=last)\n",
    "    println(rpad(key, 26, \".\"), lpad(round(value; digits=5), 6, \".\"))\n",
    "end"
   ]
  },
  {
   "cell_type": "code",
   "execution_count": null,
   "metadata": {},
   "outputs": [],
   "source": []
  },
  {
   "cell_type": "code",
   "execution_count": null,
   "metadata": {},
   "outputs": [],
   "source": []
  },
  {
   "cell_type": "code",
   "execution_count": null,
   "metadata": {},
   "outputs": [],
   "source": []
  },
  {
   "cell_type": "code",
   "execution_count": null,
   "metadata": {},
   "outputs": [],
   "source": []
  },
  {
   "cell_type": "code",
   "execution_count": null,
   "metadata": {},
   "outputs": [],
   "source": []
  }
 ],
 "metadata": {
  "kernelspec": {
   "display_name": "Julia 1.3.1",
   "language": "julia",
   "name": "julia-1.3"
  },
  "language_info": {
   "file_extension": ".jl",
   "mimetype": "application/julia",
   "name": "julia",
   "version": "1.3.1"
  }
 },
 "nbformat": 4,
 "nbformat_minor": 2
}
