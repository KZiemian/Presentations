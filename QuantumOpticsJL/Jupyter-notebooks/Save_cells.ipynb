{
 "cells": [
  {
   "cell_type": "markdown",
   "metadata": {},
   "source": [
    "## 1. The are lies, big lies and benchmarks\n",
    "### All this benchmarks are outdated.\n",
    "1. They are from 2017, both QO.jl and QuTiP change significantly from then.\n",
    "2. Julia 0.x was released in 2012, 1.x in August 2018, so this for old versions of language.\n",
    "\n",
    "Authors of package sayed that we must wait for new benchmarks."
   ]
  },
  {
   "cell_type": "markdown",
   "metadata": {},
   "source": [
    "## [More benchmarks. Outdated.](https://qojulia.org/benchmarks)"
   ]
  },
  {
   "cell_type": "markdown",
   "metadata": {},
   "source": []
  },
  {
   "cell_type": "markdown",
   "metadata": {},
   "source": []
  },
  {
   "cell_type": "markdown",
   "metadata": {},
   "source": []
  }
 ],
 "metadata": {
  "kernelspec": {
   "display_name": "Julia 1.1.0",
   "language": "julia",
   "name": "julia-1.1"
  },
  "language_info": {
   "file_extension": ".jl",
   "mimetype": "application/julia",
   "name": "julia",
   "version": "1.1.0"
  }
 },
 "nbformat": 4,
 "nbformat_minor": 2
}
