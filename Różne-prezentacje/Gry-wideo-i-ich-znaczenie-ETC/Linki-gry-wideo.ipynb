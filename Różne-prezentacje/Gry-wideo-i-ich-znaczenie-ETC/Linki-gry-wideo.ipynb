{
 "cells": [
  {
   "cell_type": "markdown",
   "metadata": {},
   "source": [
    "## [Wiedźmin I - wiersz dla Aliny](https://www.youtube.com/watch?v=ko0x6ARwCKI)\n",
    "\n",
    "## [Wiedźmin III - Zabijam potwory](https://www.youtube.com/watch?v=WY5Sw4oa-kk)\n",
    "\n",
    "## [Wiedźmin III - Dziady](https://www.youtube.com/watch?v=lPuofEyYr58)\n",
    "\n",
    "## [Indeks WIG20](https://www.stockwatch.pl/gpw/indeks/wig20,sklad.aspx)\n",
    "\n",
    "## [The Video Games' Industry is Bigger Than Hollywood](https://lpesports.com/e-sports-news/the-video-games-industry-is-bigger-than-hollywood)\n",
    "\n",
    "## [Call od Duty: Black Ops - Workuta](https://www.youtube.com/watch?v=GeEEN0tuSn0)\n",
    "\n",
    "## [Polska Drużna Esportu](https://twitter.com/esport_polska)\n",
    "\n",
    "## [Game Music Festival 2018 - za kulisami](https://www.youtube.com/watch?v=i-cUkWC9sZk)\n",
    "\n",
    "## [Marcin Iwiński na E3](https://www.youtube.com/watch?v=eiN9WibHcS8)"
   ]
  },
  {
   "cell_type": "markdown",
   "metadata": {},
   "source": [
    "<img src=\"Andrzej_Sapkowski.jpeg\" alt=\"Andrzej Sapkowski\" width=\"300px\"/>"
   ]
  },
  {
   "cell_type": "markdown",
   "metadata": {},
   "source": [
    "<img src=\"Mike_Pondsmith.jpg\" alt=\"Mike Pondsmith\"/>"
   ]
  },
  {
   "cell_type": "markdown",
   "metadata": {},
   "source": [
    "## [Andrzej Sapkowski](https://www.youtube.com/watch?v=iTaxjEV9tlM)\n",
    "\n",
    "## [Mike Pondsmith](https://www.youtube.com/watch?v=bZZVj7OaymI)\n",
    "\n",
    "## [Wiedźmin 3: Droga ku zagładzie - walka z Olgierdem Von Everec](https://www.youtube.com/watch?v=Ehsv0W9FeI8)\n",
    "\n",
    "## [Warsaw - Exclusive Official Announcement Trailer](https://www.youtube.com/watch?v=Ak0ib2_GZBg)\n",
    "\n",
    "## [13 Minutes of Warsaw Gameplay](https://www.youtube.com/watch?v=fJcQ7Z6Obn4)\n",
    "\n",
    "## [Frostpunk](https://www.youtube.com/watch?v=eDXc63Nt-PA)\n",
    "\n",
    "## [Pro HS Player BANNED and Casters fired (Blitzchung)](https://www.youtube.com/watch?v=X0EsfXd7ZbE)\n",
    "\n",
    "## [Overwatch's Mei is being turned into a Hong Kong protest symbol](https://www.eurogamer.net/articles/2019-10-09-overwatchs-mei-is-being-turned-into-a-hong-kong-protest-symbol)\n",
    "\n",
    "## [GAMERS FOR FREEDOM](https://www.gamersforfreedom.com)\n",
    "\n",
    "## [Chines Goverment](https://twitter.com/ChthonicHydra/status/1181920647213133824/photo/1?ref_src=twsrc%5Etfw%7Ctwcamp%5Etweetembed%7Ctwterm%5E1181920647213133824&ref_url=https%3A%2F%2Fwww.gamersforfreedom.com%2F)\n",
    "\n",
    "## [Orc Statue](https://news.blizzard.com/en-us/blizzard/21349313/the-orc-statue)\n",
    "\n",
    "## [+ Steam Polish Sale + Celebration of 100 Years of Polish Independence + Great Game Industry Poland +](https://www.youtube.com/watch?v=boKcE_C2Jhg)\n",
    "\n",
    "## [Cyberpunk 2077 — Oficjalny Zwiastun E3 2019](https://www.youtube.com/watch?v=qIcTM8WXFjk)\n",
    "\n",
    "## [Cyberpunk 2077 - Making of trailer from E3 2019](https://www.youtube.com/watch?v=cgFvZmfjTYc)\n",
    "\n",
    "## [Kingdom Come Deliverance - Official Final Trailer](https://www.youtube.com/watch?v=w9IrhaJKwBY)\n",
    "\n",
    "## [SABATON - Kingdom Come: Deliverance (Manowar Cover)](https://www.youtube.com/watch?v=EYH6ubNJqck)\n",
    "\n",
    "## [Cyberpunk 2077 — pierwsza prezentacja; 48 minut rozgrywki 17:00 i 23:45](https://www.youtube.com/watch?v=vjF9GgrY9c0)"
   ]
  },
  {
   "cell_type": "markdown",
   "metadata": {},
   "source": [
    "## [Parallel lives of Xi and Winnie](https://www.taiwannews.com.tw/en/news/3646366)\n",
    "\n",
    "## [Why China censors banned Winnie the Pooh](https://www.bbc.com/news/blogs-china-blog-40627855)\n",
    "\n",
    "## [Hong Kong leader Carrie Lam becomes Piglet beside Xi Jinping who has been Winnie the Pooh](https://mothership.sg/2018/10/carrie-lam-piglet/)"
   ]
  },
  {
   "cell_type": "markdown",
   "metadata": {},
   "source": []
  },
  {
   "cell_type": "markdown",
   "metadata": {},
   "source": []
  },
  {
   "cell_type": "markdown",
   "metadata": {},
   "source": []
  },
  {
   "cell_type": "markdown",
   "metadata": {},
   "source": []
  },
  {
   "cell_type": "markdown",
   "metadata": {},
   "source": []
  }
 ],
 "metadata": {
  "@webio": {
   "lastCommId": null,
   "lastKernelId": null
  },
  "kernelspec": {
   "display_name": "Julia 1.2.0",
   "language": "julia",
   "name": "julia-1.2"
  },
  "language_info": {
   "file_extension": ".jl",
   "mimetype": "application/julia",
   "name": "julia",
   "version": "1.2.0"
  }
 },
 "nbformat": 4,
 "nbformat_minor": 1
}
