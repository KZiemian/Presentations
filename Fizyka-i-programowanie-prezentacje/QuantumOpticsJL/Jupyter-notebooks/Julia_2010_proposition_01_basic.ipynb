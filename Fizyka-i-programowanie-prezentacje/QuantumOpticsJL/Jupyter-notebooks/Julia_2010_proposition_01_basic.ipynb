{
 "cells": [
  {
   "cell_type": "markdown",
   "metadata": {},
   "source": [
    "# Advertisment"
   ]
  },
  {
   "cell_type": "markdown",
   "metadata": {},
   "source": [
    "## Easy as MATLAB, flexible as Python, deep as Lisp and fast as Fortran\n",
    "John F. Gibson, [*WhyJulia*](https://github.com/johnfgibson/whyjulia/blob/master/1-whyjulia.ipynb)."
   ]
  },
  {
   "cell_type": "markdown",
   "metadata": {},
   "source": [
    "## 1. Some mathematical code"
   ]
  },
  {
   "cell_type": "code",
   "execution_count": 2,
   "metadata": {
    "scrolled": true
   },
   "outputs": [
    {
     "data": {
      "text/plain": [
       "2×2 Array{Complex{Int64},2}:\n",
       " 0+1im  0+0im\n",
       " 0+0im  0-1im"
      ]
     },
     "execution_count": 2,
     "metadata": {},
     "output_type": "execute_result"
    }
   ],
   "source": []
  },
  {
   "cell_type": "code",
   "execution_count": 3,
   "metadata": {
    "scrolled": false
   },
   "outputs": [
    {
     "data": {
      "text/plain": [
       "2×2 Array{Int64,2}:\n",
       " 1  0\n",
       " 0  1"
      ]
     },
     "execution_count": 3,
     "metadata": {},
     "output_type": "execute_result"
    }
   ],
   "source": []
  },
  {
   "cell_type": "code",
   "execution_count": 4,
   "metadata": {},
   "outputs": [
    {
     "data": {
      "text/plain": [
       "1000"
      ]
     },
     "execution_count": 4,
     "metadata": {},
     "output_type": "execute_result"
    }
   ],
   "source": []
  },
  {
   "cell_type": "code",
   "execution_count": 5,
   "metadata": {},
   "outputs": [
    {
     "data": {
      "text/plain": [
       "2×2 Array{Int64,2}:\n",
       "    0  1000\n",
       " 1000     0"
      ]
     },
     "execution_count": 5,
     "metadata": {},
     "output_type": "execute_result"
    }
   ],
   "source": [
    "n * σ₁"
   ]
  },
  {
   "cell_type": "code",
   "execution_count": 6,
   "metadata": {
    "scrolled": true
   },
   "outputs": [
    {
     "data": {
      "text/plain": [
       "2×2 Array{Complex{Int64},2}:\n",
       " 0-1im  0+0im\n",
       " 0+0im  0+1im"
      ]
     },
     "execution_count": 6,
     "metadata": {},
     "output_type": "execute_result"
    }
   ],
   "source": [
    "σ₂ * σ₁"
   ]
  },
  {
   "cell_type": "code",
   "execution_count": 7,
   "metadata": {},
   "outputs": [
    {
     "data": {
      "text/plain": [
       "2"
      ]
     },
     "execution_count": 7,
     "metadata": {},
     "output_type": "execute_result"
    }
   ],
   "source": [
    "x = 1\n",
    "y = 2"
   ]
  },
  {
   "cell_type": "code",
   "execution_count": 8,
   "metadata": {},
   "outputs": [
    {
     "name": "stdout",
     "output_type": "stream",
     "text": [
      "1 + 2 = 3\n"
     ]
    }
   ],
   "source": [
    "println(\"$x + $y = $(x + y)\")"
   ]
  },
  {
   "cell_type": "code",
   "execution_count": 9,
   "metadata": {},
   "outputs": [
    {
     "name": "stdout",
     "output_type": "stream",
     "text": [
      "σ₂ = Complex{Int64}[0+0im 0-1im; 0+1im 0+0im]\n"
     ]
    }
   ],
   "source": [
    "println(\"σ₂ = $(σ₂)\")"
   ]
  },
  {
   "cell_type": "markdown",
   "metadata": {},
   "source": []
  },
  {
   "cell_type": "code",
   "execution_count": null,
   "metadata": {
    "scrolled": true
   },
   "outputs": [],
   "source": [
    "1//3"
   ]
  },
  {
   "cell_type": "code",
   "execution_count": null,
   "metadata": {
    "scrolled": true
   },
   "outputs": [],
   "source": [
    "1//3 + 1//2"
   ]
  },
  {
   "cell_type": "code",
   "execution_count": null,
   "metadata": {
    "scrolled": true
   },
   "outputs": [],
   "source": [
    "1/3"
   ]
  },
  {
   "cell_type": "code",
   "execution_count": null,
   "metadata": {},
   "outputs": [],
   "source": [
    "convert(Rational{Int32}, 1/3)"
   ]
  },
  {
   "cell_type": "code",
   "execution_count": null,
   "metadata": {
    "scrolled": true
   },
   "outputs": [],
   "source": [
    "convert(Rational{Int64}, 1/3)"
   ]
  },
  {
   "cell_type": "code",
   "execution_count": null,
   "metadata": {},
   "outputs": [],
   "source": [
    "a = \"Zakład Teorii \"\n",
    "b = \"Pola\""
   ]
  },
  {
   "cell_type": "code",
   "execution_count": null,
   "metadata": {},
   "outputs": [],
   "source": [
    "a * b"
   ]
  },
  {
   "cell_type": "code",
   "execution_count": null,
   "metadata": {},
   "outputs": [],
   "source": [
    "\"pole, \"^7"
   ]
  },
  {
   "cell_type": "code",
   "execution_count": null,
   "metadata": {
    "scrolled": true
   },
   "outputs": [],
   "source": []
  },
  {
   "cell_type": "code",
   "execution_count": null,
   "metadata": {
    "scrolled": true
   },
   "outputs": [],
   "source": [
    "v₂ = [0 -2 3]"
   ]
  },
  {
   "cell_type": "code",
   "execution_count": null,
   "metadata": {},
   "outputs": [],
   "source": []
  },
  {
   "cell_type": "code",
   "execution_count": null,
   "metadata": {},
   "outputs": [],
   "source": []
  },
  {
   "cell_type": "code",
   "execution_count": null,
   "metadata": {
    "scrolled": true
   },
   "outputs": [],
   "source": []
  },
  {
   "cell_type": "code",
   "execution_count": null,
   "metadata": {},
   "outputs": [],
   "source": []
  },
  {
   "cell_type": "code",
   "execution_count": null,
   "metadata": {},
   "outputs": [],
   "source": []
  },
  {
   "cell_type": "code",
   "execution_count": null,
   "metadata": {},
   "outputs": [],
   "source": []
  },
  {
   "cell_type": "code",
   "execution_count": null,
   "metadata": {},
   "outputs": [],
   "source": []
  },
  {
   "cell_type": "code",
   "execution_count": null,
   "metadata": {},
   "outputs": [],
   "source": []
  },
  {
   "cell_type": "markdown",
   "metadata": {},
   "source": []
  },
  {
   "cell_type": "code",
   "execution_count": null,
   "metadata": {},
   "outputs": [],
   "source": []
  },
  {
   "cell_type": "code",
   "execution_count": null,
   "metadata": {},
   "outputs": [],
   "source": []
  },
  {
   "cell_type": "code",
   "execution_count": null,
   "metadata": {
    "scrolled": false
   },
   "outputs": [],
   "source": []
  },
  {
   "cell_type": "code",
   "execution_count": null,
   "metadata": {},
   "outputs": [],
   "source": []
  },
  {
   "cell_type": "code",
   "execution_count": null,
   "metadata": {},
   "outputs": [],
   "source": []
  },
  {
   "cell_type": "code",
   "execution_count": null,
   "metadata": {},
   "outputs": [],
   "source": []
  },
  {
   "cell_type": "code",
   "execution_count": null,
   "metadata": {},
   "outputs": [],
   "source": [
    "?eigen"
   ]
  },
  {
   "cell_type": "code",
   "execution_count": null,
   "metadata": {},
   "outputs": [],
   "source": []
  },
  {
   "cell_type": "code",
   "execution_count": null,
   "metadata": {},
   "outputs": [],
   "source": []
  },
  {
   "cell_type": "code",
   "execution_count": null,
   "metadata": {
    "scrolled": true
   },
   "outputs": [],
   "source": [
    "eigen_A.vectors"
   ]
  },
  {
   "cell_type": "code",
   "execution_count": null,
   "metadata": {},
   "outputs": [],
   "source": []
  },
  {
   "cell_type": "markdown",
   "metadata": {},
   "source": [
    "# 2. Multiple dispatch"
   ]
  },
  {
   "cell_type": "code",
   "execution_count": null,
   "metadata": {
    "scrolled": true
   },
   "outputs": [],
   "source": [
    "f(x) = 2(x + 1)^2"
   ]
  },
  {
   "cell_type": "code",
   "execution_count": null,
   "metadata": {},
   "outputs": [],
   "source": [
    "f(0)"
   ]
  },
  {
   "cell_type": "code",
   "execution_count": null,
   "metadata": {
    "scrolled": true
   },
   "outputs": [],
   "source": [
    "f(-1)"
   ]
  },
  {
   "cell_type": "code",
   "execution_count": null,
   "metadata": {},
   "outputs": [],
   "source": [
    "f(1)"
   ]
  },
  {
   "cell_type": "code",
   "execution_count": null,
   "metadata": {
    "scrolled": true
   },
   "outputs": [],
   "source": [
    "f(σ₁)"
   ]
  },
  {
   "cell_type": "code",
   "execution_count": null,
   "metadata": {},
   "outputs": [],
   "source": [
    "oneunit(1)"
   ]
  },
  {
   "cell_type": "code",
   "execution_count": null,
   "metadata": {
    "scrolled": true
   },
   "outputs": [],
   "source": [
    "oneunit(Int64)"
   ]
  },
  {
   "cell_type": "code",
   "execution_count": null,
   "metadata": {},
   "outputs": [],
   "source": [
    "oneunit([1 2; 3 4])"
   ]
  },
  {
   "cell_type": "code",
   "execution_count": null,
   "metadata": {
    "scrolled": true
   },
   "outputs": [],
   "source": []
  },
  {
   "cell_type": "code",
   "execution_count": null,
   "metadata": {},
   "outputs": [],
   "source": []
  },
  {
   "cell_type": "code",
   "execution_count": null,
   "metadata": {},
   "outputs": [],
   "source": []
  },
  {
   "cell_type": "code",
   "execution_count": null,
   "metadata": {},
   "outputs": [],
   "source": []
  },
  {
   "cell_type": "code",
   "execution_count": null,
   "metadata": {
    "scrolled": false
   },
   "outputs": [],
   "source": [
    "@code_typed f(0)"
   ]
  },
  {
   "cell_type": "code",
   "execution_count": null,
   "metadata": {},
   "outputs": [],
   "source": [
    "@code_typed f(0.0)"
   ]
  },
  {
   "cell_type": "code",
   "execution_count": null,
   "metadata": {},
   "outputs": [],
   "source": [
    "@code_warntype f(0)"
   ]
  },
  {
   "cell_type": "code",
   "execution_count": null,
   "metadata": {
    "scrolled": true
   },
   "outputs": [],
   "source": [
    "@code_lowered f(0)"
   ]
  },
  {
   "cell_type": "code",
   "execution_count": null,
   "metadata": {},
   "outputs": [],
   "source": [
    "@code_native f(0)"
   ]
  },
  {
   "cell_type": "code",
   "execution_count": null,
   "metadata": {},
   "outputs": [],
   "source": [
    "@code_llvm f(0)"
   ]
  },
  {
   "cell_type": "code",
   "execution_count": null,
   "metadata": {
    "scrolled": true
   },
   "outputs": [],
   "source": [
    "@code_typed g(0)"
   ]
  },
  {
   "cell_type": "code",
   "execution_count": null,
   "metadata": {},
   "outputs": [],
   "source": [
    "@code_warntype g(0)"
   ]
  },
  {
   "cell_type": "code",
   "execution_count": null,
   "metadata": {
    "scrolled": true
   },
   "outputs": [],
   "source": [
    "@code_lowered g(0)"
   ]
  },
  {
   "cell_type": "code",
   "execution_count": null,
   "metadata": {},
   "outputs": [],
   "source": [
    "@code_llvm g(0)"
   ]
  },
  {
   "cell_type": "code",
   "execution_count": null,
   "metadata": {},
   "outputs": [],
   "source": [
    "@code_native g(0)"
   ]
  },
  {
   "cell_type": "code",
   "execution_count": null,
   "metadata": {},
   "outputs": [],
   "source": [
    "@code_typed g(σ₁)"
   ]
  },
  {
   "cell_type": "code",
   "execution_count": null,
   "metadata": {},
   "outputs": [],
   "source": [
    "@code_warntype g(σ₁)"
   ]
  },
  {
   "cell_type": "code",
   "execution_count": null,
   "metadata": {
    "scrolled": true
   },
   "outputs": [],
   "source": [
    "@code_lowered g(σ₁)"
   ]
  },
  {
   "cell_type": "code",
   "execution_count": null,
   "metadata": {
    "scrolled": true
   },
   "outputs": [],
   "source": [
    "@code_llvm g(σ₁)"
   ]
  },
  {
   "cell_type": "code",
   "execution_count": null,
   "metadata": {},
   "outputs": [],
   "source": [
    "@code_native g(σ₁)"
   ]
  },
  {
   "cell_type": "code",
   "execution_count": null,
   "metadata": {},
   "outputs": [],
   "source": [
    "methods(eigen)"
   ]
  },
  {
   "cell_type": "markdown",
   "metadata": {},
   "source": [
    "# 3. Random numbers and matrics"
   ]
  },
  {
   "cell_type": "code",
   "execution_count": null,
   "metadata": {},
   "outputs": [],
   "source": [
    "rand(5)"
   ]
  },
  {
   "cell_type": "code",
   "execution_count": null,
   "metadata": {},
   "outputs": [],
   "source": [
    "randn(5)"
   ]
  },
  {
   "cell_type": "code",
   "execution_count": null,
   "metadata": {},
   "outputs": [],
   "source": [
    "rand(4, 4)"
   ]
  },
  {
   "cell_type": "code",
   "execution_count": null,
   "metadata": {},
   "outputs": [],
   "source": [
    "rand(4, 4, 4)"
   ]
  },
  {
   "cell_type": "code",
   "execution_count": null,
   "metadata": {},
   "outputs": [],
   "source": [
    "1:4"
   ]
  },
  {
   "cell_type": "code",
   "execution_count": null,
   "metadata": {},
   "outputs": [],
   "source": [
    "A = rand(1:4, 3, 3)"
   ]
  },
  {
   "cell_type": "code",
   "execution_count": null,
   "metadata": {},
   "outputs": [],
   "source": [
    "using Colors"
   ]
  },
  {
   "cell_type": "code",
   "execution_count": null,
   "metadata": {},
   "outputs": [],
   "source": [
    "distinguishable_colors(20)"
   ]
  },
  {
   "cell_type": "code",
   "execution_count": null,
   "metadata": {},
   "outputs": [],
   "source": [
    "palette = distinguishable_colors(20)"
   ]
  },
  {
   "cell_type": "code",
   "execution_count": null,
   "metadata": {},
   "outputs": [],
   "source": [
    "rand(palette, 5, 5)"
   ]
  },
  {
   "cell_type": "markdown",
   "metadata": {},
   "source": [
    "# 4. There are lies, big lies and benchmarks"
   ]
  },
  {
   "cell_type": "markdown",
   "metadata": {},
   "source": [
    "Examples taken from\n",
    "[*Julia is fast*](https://github.com/JuliaComputing/JuliaBoxTutorials/blob/master/introductory-tutorials/intro-to-julia/09.%20Julia%20is%20fast.ipynb) at JuliaComputing GitHub account."
   ]
  },
  {
   "cell_type": "markdown",
   "metadata": {},
   "source": [
    "We test speed of Julia using simple case of function summing elements of vector $V$ with $N = 10^{ 7 }$ random elements\n",
    "\\begin{equation}\n",
    "    \\textrm{sum}(V) = \\sum_{ i = 1 }^{ N } V_{ i }.\n",
    "\\end{equation}"
   ]
  },
  {
   "cell_type": "markdown",
   "metadata": {},
   "source": [
    "## Function in Julia are faster that \"free\" code."
   ]
  },
  {
   "cell_type": "code",
   "execution_count": null,
   "metadata": {},
   "outputs": [],
   "source": [
    "using Plots, Libdl, BenchmarkTools, Statistics\n",
    "gr()\n",
    "V = rand(10^7)  # 1D vector of random numbers, uniform on [0,1)"
   ]
  },
  {
   "cell_type": "code",
   "execution_count": null,
   "metadata": {},
   "outputs": [],
   "source": [
    "sum(V) / 10^7"
   ]
  },
  {
   "cell_type": "markdown",
   "metadata": {},
   "source": [
    "## 4.1 The C language"
   ]
  },
  {
   "cell_type": "markdown",
   "metadata": {},
   "source": [
    "I don't write this C code."
   ]
  },
  {
   "cell_type": "code",
   "execution_count": null,
   "metadata": {},
   "outputs": [],
   "source": [
    "C_code = \"\"\"\n",
    "#include <stddef.h>\n",
    "double c_sum(size_t n, double *X) {\n",
    "    double s = 0.0;\n",
    "    for (size_t i = 0; i < n; ++i) {\n",
    "        s += X[i];\n",
    "    }\n",
    "    return s;\n",
    "}\n",
    "\"\"\"\n",
    "\n",
    "const Clib = tempname()   # make a temporary file\n",
    "\n",
    "\n",
    "# compile to a shared library by piping C_code to gcc\n",
    "# (works only if you have gcc installed):\n",
    "\n",
    "open(`gcc -fPIC -O3 -msse3 -xc -shared -o $(Clib * \".\" * Libdl.dlext) -`, \"w\") do f\n",
    "    print(f, C_code) \n",
    "end\n",
    "\n",
    "# define a Julia function that calls the C function:\n",
    "c_sum(X::Array{Float64}) = ccall((\"c_sum\", Clib), Float64, (Csize_t, Ptr{Float64}), length(X), X)"
   ]
  },
  {
   "cell_type": "markdown",
   "metadata": {},
   "source": [
    "Approx"
   ]
  },
  {
   "cell_type": "code",
   "execution_count": null,
   "metadata": {},
   "outputs": [],
   "source": []
  },
  {
   "cell_type": "code",
   "execution_count": null,
   "metadata": {},
   "outputs": [],
   "source": [
    "(c_sum(V) - sum(V)) / 10^7"
   ]
  },
  {
   "cell_type": "code",
   "execution_count": null,
   "metadata": {},
   "outputs": [],
   "source": [
    "c_bench = @benchmark c_sum($V)"
   ]
  },
  {
   "cell_type": "code",
   "execution_count": null,
   "metadata": {
    "scrolled": false
   },
   "outputs": [],
   "source": [
    "d_min = Dict(\"C\" => minimum(c_bench.times) / 1e6)  # We creat efficient dictionary\n",
    "d_med = Dict(\"C\" => median(c_bench.times) / 1e6)"
   ]
  },
  {
   "cell_type": "code",
   "execution_count": null,
   "metadata": {},
   "outputs": [],
   "source": [
    "t = c_bench.times / 1e6"
   ]
  },
  {
   "cell_type": "code",
   "execution_count": null,
   "metadata": {},
   "outputs": [],
   "source": [
    "min_t = 4\n",
    "max_t = 10.5"
   ]
  },
  {
   "cell_type": "code",
   "execution_count": null,
   "metadata": {
    "scrolled": true
   },
   "outputs": [],
   "source": [
    "t = c_bench.times / 1e6  # times in milliseconds\n",
    "\n",
    "histogram(t, bins=500,\n",
    "             xlim=(min_t, max_t),\n",
    "             xlabel=\"milliseconds\", ylabel=\"count\", label=\"\")"
   ]
  },
  {
   "cell_type": "markdown",
   "metadata": {},
   "source": [
    "## 4.2 C with -ffast-math"
   ]
  },
  {
   "cell_type": "markdown",
   "metadata": {},
   "source": [
    "I don't write this code either."
   ]
  },
  {
   "cell_type": "code",
   "execution_count": null,
   "metadata": {},
   "outputs": [],
   "source": [
    "const Clib_fastmath = tempname()   # make a temporary file\n",
    "\n",
    "# The same as above but with a -ffast-math flag added\n",
    "open(`gcc -fPIC -O3 -msse3 -xc -shared -ffast-math -o $(Clib_fastmath * \".\" * Libdl.dlext) -`, \"w\") do f\n",
    "    print(f, C_code) \n",
    "end\n",
    "\n",
    "# define a Julia function that calls the C function:\n",
    "c_sum_fastmath(X::Array{Float64}) = ccall((\"c_sum\", Clib_fastmath), Float64, (Csize_t, Ptr{Float64}), length(X), X)"
   ]
  },
  {
   "cell_type": "code",
   "execution_count": null,
   "metadata": {
    "scrolled": true
   },
   "outputs": [],
   "source": [
    "c_fastmath_bench = @benchmark $c_sum_fastmath($V)\n",
    "d_min[\"C -ffast-math\"] = minimum(c_fastmath_bench.times) / 1e6  # in milliseconds\n",
    "d_med[\"C -ffast-math\"] = median(c_fastmath_bench.times) / 1e6\n",
    "\n",
    "t = c_fastmath_bench.times / 1e6 # times in milliseconds\n",
    "\n",
    "histogram(t, bins=500,\n",
    "             xlim=(min_t, max_t),\n",
    "             xlabel=\"milliseconds\", ylabel=\"count\", label=\"\")"
   ]
  },
  {
   "cell_type": "markdown",
   "metadata": {},
   "source": [
    "## 4.3 Julia (built-in)"
   ]
  },
  {
   "cell_type": "code",
   "execution_count": null,
   "metadata": {},
   "outputs": [],
   "source": [
    "@which sum(V)  # This code on GitHub tell you probably nothing"
   ]
  },
  {
   "cell_type": "code",
   "execution_count": null,
   "metadata": {
    "scrolled": false
   },
   "outputs": [],
   "source": [
    "j_bench = @benchmark sum($V)\n",
    "d_min[\"Julia built-in\"] = minimum(j_bench.times) / 1e6  # in milliseconds\n",
    "d_med[\"Julia built-in\"] = median(j_bench.times) / 1e6\n",
    "\n",
    "t = j_bench.times / 1e6 # times in milliseconds\n",
    "\n",
    "histogram(t, bins=500,\n",
    "             xlim=(min_t, max_t),\n",
    "             xlabel=\"milliseconds\", ylabel=\"count\", label=\"\")"
   ]
  },
  {
   "cell_type": "markdown",
   "metadata": {},
   "source": [
    "## 4.4 Julia hand-written"
   ]
  },
  {
   "cell_type": "code",
   "execution_count": null,
   "metadata": {},
   "outputs": [],
   "source": [
    "function my_sum(V)   \n",
    "    s = 0.0 # s = zero(eltype(a))\n",
    "    for v in V\n",
    "        s += v\n",
    "    end\n",
    "    s\n",
    "end\n",
    "\n",
    "j_bench_hand = @benchmark my_sum($V)\n",
    "d_min[\"Julia hand-written\"] = minimum(j_bench_hand.times) / 1e6  # in milliseconds\n",
    "d_med[\"Julia hand-written\"] = median(j_bench_hand.times) / 1e6\n",
    "\n",
    "t = j_bench_hand.times / 1e6  # times in milliseconds\n",
    "\n",
    "histogram(t, bins=500,\n",
    "             xlim=(min_t, max_t),\n",
    "             xlabel=\"milliseconds\", ylabel=\"count\", label=\"\")"
   ]
  },
  {
   "cell_type": "markdown",
   "metadata": {},
   "source": [
    "## 4.5 Julia hand-written with @simd"
   ]
  },
  {
   "cell_type": "code",
   "execution_count": null,
   "metadata": {},
   "outputs": [],
   "source": [
    "?@simd"
   ]
  },
  {
   "cell_type": "code",
   "execution_count": null,
   "metadata": {},
   "outputs": [],
   "source": [
    "function my_sum_simd(V)   \n",
    "    s = 0.0  # s = zero(eltype(A))\n",
    "    @simd for v in V\n",
    "        s += v\n",
    "    end\n",
    "    s\n",
    "end\n",
    "\n",
    "j_bench_hand_simd = @benchmark my_sum_simd($V)\n",
    "d_min[\"Julia hand-written simd\"] = minimum(j_bench_hand_simd.times) / 1e6  # in milliseconds\n",
    "d_med[\"Julia hand-written simd\"] = median(j_bench_hand_simd.times) / 1e6\n",
    "\n",
    "t = j_bench_hand_simd.times / 1e6 # times in milliseconds\n",
    "\n",
    "histogram(t, bins=500,\n",
    "             xlim=(min_t, max_t),\n",
    "             xlabel=\"milliseconds\", ylabel=\"count\", label=\"\")"
   ]
  },
  {
   "cell_type": "markdown",
   "metadata": {},
   "source": [
    "### C with -ffast-math again"
   ]
  },
  {
   "cell_type": "code",
   "execution_count": null,
   "metadata": {},
   "outputs": [],
   "source": [
    "t = c_fastmath_bench.times / 1e6  # times in milliseconds\n",
    "\n",
    "histogram(t, bins=500,\n",
    "             xlim=(min_t, max_t),\n",
    "             xlabel=\"milliseconds\", ylabel=\"count\", label=\"\")"
   ]
  },
  {
   "cell_type": "markdown",
   "metadata": {},
   "source": [
    "## 4.6 Sumary"
   ]
  },
  {
   "cell_type": "code",
   "execution_count": null,
   "metadata": {},
   "outputs": [],
   "source": [
    "println(\"Minimal time of computing sum(V)\")\n",
    "for (key, value) in sort(collect(d_min), by=last)\n",
    "    println(rpad(key, 26, \".\"), lpad(round(value; digits=5), 6, \".\"))\n",
    "end\n",
    "\n",
    "println(\"\\n\\n\\nMedian of time of computing sum(V)\")\n",
    "for (key, value) in sort(collect(d_med), by=last)\n",
    "    println(rpad(key, 26, \".\"), lpad(round(value; digits=5), 6, \".\"))\n",
    "end"
   ]
  },
  {
   "cell_type": "markdown",
   "metadata": {},
   "source": [
    "# Don't work, still"
   ]
  },
  {
   "cell_type": "code",
   "execution_count": null,
   "metadata": {},
   "outputs": [],
   "source": [
    "function ksintegrate(u₀, Lₓ, Δt, Nsteps, nsave);\n",
    "    uⁿ = (1+0im)*u₀                      # force u to be complex\n",
    "    Nₓ = length(uⁿ)                       # number of gridpoints\n",
    "    kₓ = vcat(0:Nₓ/2 - 1, 0:0, -Nₓ/2+1:-1)  # integer wavenumbers: exp(2πikₓ x/L)\n",
    "    α  = 2*pi*kₓ/Lₓ                       # real wavenumbers:    exp(iαx)\n",
    "    D  = 1im*α                           # spectral D = d/dx operator \n",
    "    L  = α.^2 - α.^4                     # spectral L = -D^2 - D^4 operator\n",
    "    G  = -0.5*D                          # spectral -1/2 D operator\n",
    "    \n",
    "    Nsave = div(Nsteps, nsave)+1         # number of saved u's, including t=0\n",
    "    t = (0:Nsave-1)*(Δt*nsave)           # times of saved u's\n",
    "    U = zeros(Nsave, Nₓ)                 # matrix of u(tᵢ, xⱼ) values\n",
    "    U[1,:] = real(u₀)                    # assign initial condition to U\n",
    "    s = 2                                # counter for saved data\n",
    "    \n",
    "    # construct diagonal matrices for LHS and RHS linear operators\n",
    "    I   = ones(Nₓ)\n",
    "    A⁻¹ = (I - Δt/2*L).^(-1)             \n",
    "    B   = I + Δt/2*L\n",
    "    \n",
    "    # compute in-place FFTW plans\n",
    "    FFT!  = plan_fft!(uⁿ,  flags=FFTW.ESTIMATE)\n",
    "    IFFT! = plan_ifft!(uⁿ, flags=FFTW.ESTIMATE)\n",
    "\n",
    "    # initialize nonlinear terms \n",
    "    Nuⁿ  = G.*fft(uⁿ.^2)      # set Nuⁿ = -1/2 d/dx (uⁿ)² = -u uₓ \n",
    "    Nuⁿ⁻¹ = copy(Nuⁿ)         # set Nuⁿ⁻¹ = Nuⁿ for first time step\n",
    "    FFT!*uⁿ\n",
    "    \n",
    "    # timestepping loop\n",
    "    for n = 0:Nsteps-1\n",
    "        \n",
    "        Nuⁿ⁻¹ .= Nuⁿ        # shift nonlinear term in time\n",
    "        Nuⁿ  .= uⁿ         # store uⁿ in Nuⁿ in prep for collocation computation\n",
    "        \n",
    "        IFFT!*Nuⁿ          # transform to gridpt values of u\n",
    "        Nuⁿ .= Nuⁿ.*Nuⁿ    # collocation calculation of u²\n",
    "        FFT!*Nuⁿ           # transform u² back to spectral coeffs\n",
    "\n",
    "        Nuⁿ .= G .* Nuⁿ      # compute  Nuⁿ = -1/2 d/dx u² = -u uₓ\n",
    "\n",
    "        # Loop fusion! Julia unrolls this line into a single for-loop over vector elems,\n",
    "        # avoiding the generation and allocation of temporary vectors you'd get in Matlab\n",
    "        uⁿ .= A⁻¹ .* (B .* uⁿ .+ 3Δt/2 .* Nuⁿ .- Δt/2 .* Nuⁿ⁻¹)\n",
    "        \n",
    "        if mod(n, nsave) == 0\n",
    "            U[s,:] = real(ifft(uⁿ))  # save into return matrix U \n",
    "            s += 1            \n",
    "        end\n",
    "    end\n",
    "   \n",
    "    t,U\n",
    "end"
   ]
  },
  {
   "cell_type": "code",
   "execution_count": null,
   "metadata": {},
   "outputs": [],
   "source": [
    "\n",
    "# set discretization parameters\n",
    "Lx = 64π\n",
    "Nx = 1024\n",
    "Δt = 1/16\n",
    "nsave = 8\n",
    "Nsteps = 3200\n",
    "\n",
    "# set initial condition\n",
    "x = Lx*(0:Nx-1)/Nx\n",
    "u₀ = cos.(x) + 0.1*sin.(x/8) + 0.002*cos.(x/32);\n",
    "\n",
    "# compile the integrator function by running it one time step\n",
    "t,U = ksintegrate(u₀, Lx, Δt, 8, nsave)\n",
    "\n",
    "# integrate the PDE\n",
    "t,U = ksintegrate(u₀, Lx, Δt, Nsteps, nsave) \n",
    "\n",
    "# plot results\n",
    "heatmap(x,t, U, xlim=(x[1], x[end]), ylim=(t[1], t[end]), \n",
    "    xlabel=\"x\", ylabel=\"t\", title=\"u(x,t)\", fillcolor=:bluesreds\n",
    ")"
   ]
  },
  {
   "cell_type": "code",
   "execution_count": null,
   "metadata": {},
   "outputs": [],
   "source": [
    "# set discretization parameters\n",
    "Lx = 64π\n",
    "Nx = 1024\n",
    "Δt = 1/16\n",
    "nsave = 8\n",
    "Nsteps = 3200\n",
    "\n",
    "# set initial condition\n",
    "x = Lx*(0:Nx-1)/Nx\n",
    "u₀ = cos.(x) + 0.1*sin.(x/8) + 0.002*cos.(x/32);\n",
    "\n",
    "# compile the integrator function by running it one time step\n",
    "t,U = ksintegrate(u₀, Lx, Δt, 8, nsave)\n",
    "\n",
    "# integrate the PDE\n",
    "t,U = ksintegrate(u₀, Lx, Δt, Nsteps, nsave) \n",
    "\n",
    "# plot results\n",
    "heatmap(x,t, U, xlim=(x[1], x[end]), ylim=(t[1], t[end]), \n",
    "    xlabel=\"x\", ylabel=\"t\", title=\"u(x,t)\", fillcolor=:bluesreds\n",
    ")"
   ]
  },
  {
   "cell_type": "markdown",
   "metadata": {},
   "source": [
    "# 6. User defined types\n",
    "Exampled oryginaly by Andreas Noack [*Fast and Flexible Linear Algebra in Julia*](https://www.youtube.com/watch?v=VS0fnUOAKpI)."
   ]
  },
  {
   "cell_type": "markdown",
   "metadata": {},
   "source": [
    "Consider field $\\mathbb{Z} / p$ where $p$ is prime number. It is called Galois field $\\textrm{GF}( p )$, we now implemented it in Julia."
   ]
  },
  {
   "cell_type": "code",
   "execution_count": null,
   "metadata": {},
   "outputs": [],
   "source": [
    "# Type definiton\n",
    "struct GF{p, T} <: Number where {p, T<:Integer}\n",
    "    rep::T  # Representation: intyger which holds the value of element in GF(p)\n",
    "    \n",
    "    function GF{p, T}(x::Integer) where {p, T<:Integer}\n",
    "        return new(mod(x, p))\n",
    "    end\n",
    "end\n",
    "GF{p}(x::T) where {p, T<:Integer} = GF{p, T}(x)"
   ]
  },
  {
   "cell_type": "markdown",
   "metadata": {},
   "source": [
    "We now define some basic methods for $\\textrm{GF}( p )$ that all Julia Numbers must have"
   ]
  },
  {
   "cell_type": "code",
   "execution_count": null,
   "metadata": {},
   "outputs": [],
   "source": [
    "import Base: convert, inv, one, promote_rule, show, zero\n",
    "\n",
    "function call(::Type{GF{p}}, x::Integer) where p\n",
    "    if !isprime(p)\n",
    "        throw(ArgumentError(\"p must be prime\"))\n",
    "    end\n",
    "    return GF{p, typeof(x)}(mod(x, p))\n",
    "end\n",
    "\n",
    "convert(::Type{GF{p, T}}, x::Integer) where {p, T} = GF{p}(x)\n",
    "convert(::Type{GF{p}}, x::Integer) where p = GF{p}(x)\n",
    "convert(::Type{GF{p, T}}, x::GF{p}) where {p, T} = GF{p, T}(x.rep)\n",
    "promote_rule(::Type{GF{p, T1}}, ::Type{T2}) where {p, T1, T2<:Integer} = GF{p, promote_type(T1, T2)}\n",
    "\n",
    "# To be able show and print GF(p)\n",
    "show(io::IO, x::GF) = show(io, x.rep)"
   ]
  },
  {
   "cell_type": "markdown",
   "metadata": {},
   "source": [
    "Defining arithmetic operations on $\\textrm{GF}( p )$"
   ]
  },
  {
   "cell_type": "code",
   "execution_count": null,
   "metadata": {},
   "outputs": [],
   "source": [
    "GF{7}(9)"
   ]
  },
  {
   "cell_type": "code",
   "execution_count": null,
   "metadata": {
    "scrolled": true
   },
   "outputs": [],
   "source": [
    "GF{2}(4)"
   ]
  },
  {
   "cell_type": "code",
   "execution_count": null,
   "metadata": {
    "scrolled": true
   },
   "outputs": [],
   "source": [
    "typeof(GF{7}(0))"
   ]
  },
  {
   "cell_type": "code",
   "execution_count": null,
   "metadata": {
    "scrolled": false
   },
   "outputs": [],
   "source": [
    "x = GF{3}(4)"
   ]
  },
  {
   "cell_type": "code",
   "execution_count": null,
   "metadata": {},
   "outputs": [],
   "source": [
    "x"
   ]
  },
  {
   "cell_type": "code",
   "execution_count": null,
   "metadata": {},
   "outputs": [],
   "source": [
    "typeof(x)"
   ]
  },
  {
   "cell_type": "code",
   "execution_count": null,
   "metadata": {},
   "outputs": [],
   "source": [
    "typeof(x.rep)"
   ]
  },
  {
   "cell_type": "code",
   "execution_count": null,
   "metadata": {},
   "outputs": [],
   "source": [
    "GF{7}(2) + GF{7}(5)"
   ]
  },
  {
   "cell_type": "code",
   "execution_count": null,
   "metadata": {},
   "outputs": [],
   "source": [
    "import Base: +"
   ]
  },
  {
   "cell_type": "code",
   "execution_count": null,
   "metadata": {},
   "outputs": [],
   "source": [
    "+(x::GF{p, T}, y::GF{p, T}) where {p, T} = GF{p, T}(x.rep + y.rep)"
   ]
  },
  {
   "cell_type": "code",
   "execution_count": null,
   "metadata": {
    "scrolled": true
   },
   "outputs": [],
   "source": [
    "GF{3}(4) + GF{3}(2)"
   ]
  },
  {
   "cell_type": "markdown",
   "metadata": {},
   "source": [
    "We now use some eldrih magic"
   ]
  },
  {
   "cell_type": "code",
   "execution_count": null,
   "metadata": {},
   "outputs": [],
   "source": [
    "import Base: -, *, isless\n",
    "\n",
    "for op in (:+, :-, :*, :isless)  # Loops over ops, defining each in terms of integer ops mod p\n",
    "    @eval begin\n",
    "        ($op)(x::GF{p, T}, y::GF{p, T}) where {p, T} = GF{p, T}($(op)(x.rep, y.rep))\n",
    "    end\n",
    "end"
   ]
  },
  {
   "cell_type": "markdown",
   "metadata": {},
   "source": [
    "We now definde inverse and divison $\\div$. This requariers more work, because dividing by zero throws error"
   ]
  },
  {
   "cell_type": "code",
   "execution_count": null,
   "metadata": {},
   "outputs": [],
   "source": [
    "import Base: /\n",
    "\n",
    "function inv(x::GF{p, T}) where {p, T}\n",
    "    if x == zero(x)\n",
    "        throw(DivideError())\n",
    "    end\n",
    "    r, u, v = gcdx(x.rep, p)\n",
    "    GF{p, T}(u)\n",
    "end\n",
    "(/)(x::GF{p}, y::GF{p}) where p = x * inv(y);\n",
    "abs(x::GF{p, T}) where {p, T} = x"
   ]
  },
  {
   "cell_type": "code",
   "execution_count": null,
   "metadata": {},
   "outputs": [],
   "source": [
    "subtypes(Number)"
   ]
  },
  {
   "cell_type": "code",
   "execution_count": null,
   "metadata": {
    "scrolled": true
   },
   "outputs": [],
   "source": [
    "subtypes(Real)"
   ]
  },
  {
   "cell_type": "code",
   "execution_count": null,
   "metadata": {},
   "outputs": [],
   "source": [
    "subtypes(AbstractFloat)"
   ]
  },
  {
   "cell_type": "markdown",
   "metadata": {},
   "source": [
    "Some $\\textrm{GF}( 7 )$ arithmetics"
   ]
  },
  {
   "cell_type": "code",
   "execution_count": null,
   "metadata": {},
   "outputs": [],
   "source": [
    "x = GF{7}(9)   # x =  (9 mod 7) = 2\n",
    "y = GF{7}(12)  # y = (12 mod 7) = 5"
   ]
  },
  {
   "cell_type": "code",
   "execution_count": null,
   "metadata": {
    "scrolled": false
   },
   "outputs": [],
   "source": [
    "@show x\n",
    "@show y\n",
    "@show x + y  # (2 + 5) mod 7 = 0\n",
    "@show x - y  # (2 - 5) mod 7 = 4\n",
    "@show x * y  # (2 * 5) mod 7 = 3\n",
    "@show x / y  # (2 ÷ 5) mod 7 = 6, because 2 = (6 * 5) mod 7"
   ]
  },
  {
   "cell_type": "code",
   "execution_count": null,
   "metadata": {},
   "outputs": [],
   "source": [
    "x = [GF{7}(rand(0:6)) for i = 1:3]"
   ]
  },
  {
   "cell_type": "code",
   "execution_count": null,
   "metadata": {},
   "outputs": [],
   "source": [
    "y = [GF{7}(rand(0:6)) for i = 1:3]"
   ]
  },
  {
   "cell_type": "code",
   "execution_count": null,
   "metadata": {},
   "outputs": [],
   "source": [
    "x + y"
   ]
  },
  {
   "cell_type": "code",
   "execution_count": null,
   "metadata": {},
   "outputs": [],
   "source": [
    "x = [GF{7}(1) GF{7}(2) GF{7}(1)]"
   ]
  },
  {
   "cell_type": "code",
   "execution_count": null,
   "metadata": {},
   "outputs": [],
   "source": [
    "y = [GF{7}(3), GF{7}(2), GF{7}(2)]"
   ]
  },
  {
   "cell_type": "code",
   "execution_count": null,
   "metadata": {},
   "outputs": [],
   "source": [
    "y'"
   ]
  },
  {
   "cell_type": "code",
   "execution_count": null,
   "metadata": {},
   "outputs": [],
   "source": [
    "Base.conj(x::GF{p,T}) where {p,T} = x"
   ]
  },
  {
   "cell_type": "code",
   "execution_count": null,
   "metadata": {},
   "outputs": [],
   "source": [
    "y'"
   ]
  }
 ],
 "metadata": {
  "kernelspec": {
   "display_name": "Julia 1.1.1",
   "language": "julia",
   "name": "julia-1.1"
  },
  "language_info": {
   "file_extension": ".jl",
   "mimetype": "application/julia",
   "name": "julia",
   "version": "1.2.0"
  }
 },
 "nbformat": 4,
 "nbformat_minor": 2
}
