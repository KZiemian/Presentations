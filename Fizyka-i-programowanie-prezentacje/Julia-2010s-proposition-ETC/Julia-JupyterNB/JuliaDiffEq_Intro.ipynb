{
 "cells": [
  {
   "cell_type": "markdown",
   "metadata": {},
   "source": [
    "# Introduction to JuliaDiffEq Project\n",
    "\n",
    "## Presentation based on official \"Basic Introduction Via Ordinary Differential Equations\" [An Intro to DifferentialEquations.jl](https://github.com/JuliaDiffEq/DiffEqTutorials.jl/blob/master/notebook/introduction/01-ode_introduction.ipynb)."
   ]
  },
  {
   "cell_type": "markdown",
   "metadata": {},
   "source": [
    "## _JuliaDiffEq is a Github organization created to unify the packages for solving differential equations in Julia. By providing a diverse set of tools with a common interface, we provide a modular, easily-extendable, and highly performant ecosystem for solving various forms of differential equations._\n",
    "\n",
    "From the homepage of [JuliaDiffEq](https://juliadiffeq.org/)\n",
    "\n",
    "## Lead person of these project is [Chris Rackauckas](http://chrisrackauckas.com/), Applied Mathematics Instructor at the Massachusetts Institute of Technology and Senior Research Analyst at University of Maryland, Baltimore, School of Pharmacy.\n",
    "\n",
    "## Curently he is studing scientific AI, such a neural differential equations."
   ]
  },
  {
   "cell_type": "code",
   "execution_count": null,
   "metadata": {},
   "outputs": [],
   "source": [
    "# import Pkg; Pkg.add([\"DifferentialEquations\", \"Plots\", \"Latexify\"])"
   ]
  },
  {
   "cell_type": "code",
   "execution_count": null,
   "metadata": {},
   "outputs": [],
   "source": [
    "using DifferentialEquations\n",
    "using Plots; gr()"
   ]
  },
  {
   "cell_type": "markdown",
   "metadata": {},
   "source": [
    "## Simplest differential equations\n",
    "\n",
    "\\begin{equation*}\n",
    "    u'( t ) = f( u( t ), p, t )\n",
    "\\end{equation*}\n",
    "\n",
    "$u( t )$ - solution of equation.\n",
    "\n",
    "$p$ - parameters.\n",
    "\n",
    "$t$ - time."
   ]
  },
  {
   "cell_type": "code",
   "execution_count": null,
   "metadata": {},
   "outputs": [],
   "source": [
    "f(u, p, t) = 0.98u\n",
    "u0 = 1.0\n",
    "tspan = (0.0, 1.0)"
   ]
  },
  {
   "cell_type": "code",
   "execution_count": null,
   "metadata": {
    "scrolled": true
   },
   "outputs": [],
   "source": [
    "prob = ODEProblem(f, u0, tspan)"
   ]
  },
  {
   "cell_type": "code",
   "execution_count": null,
   "metadata": {},
   "outputs": [],
   "source": [
    "sol = solve(prob)"
   ]
  },
  {
   "cell_type": "code",
   "execution_count": null,
   "metadata": {},
   "outputs": [],
   "source": [
    "plot(sol, linewidth=5, title=\"Solution to the linear ODE with a thick line\",\n",
    "    xaxis=\"Time (t)\", yaxis=\"u(t) (in μm)\", label=\"My Thick Line!\") # legend = false"
   ]
  },
  {
   "cell_type": "code",
   "execution_count": null,
   "metadata": {},
   "outputs": [],
   "source": [
    "plot!(sol.t, t -> 1.0*exp(0.98t), lw=3, ls=:dash, label=\"True Solution!\")"
   ]
  },
  {
   "cell_type": "code",
   "execution_count": null,
   "metadata": {},
   "outputs": [],
   "source": [
    "sol"
   ]
  },
  {
   "cell_type": "code",
   "execution_count": null,
   "metadata": {},
   "outputs": [],
   "source": [
    "typeof(sol)"
   ]
  },
  {
   "cell_type": "code",
   "execution_count": null,
   "metadata": {},
   "outputs": [],
   "source": [
    "sol.t"
   ]
  },
  {
   "cell_type": "code",
   "execution_count": null,
   "metadata": {},
   "outputs": [],
   "source": [
    "sol.u"
   ]
  },
  {
   "cell_type": "code",
   "execution_count": null,
   "metadata": {},
   "outputs": [],
   "source": [
    "sol(0.45)"
   ]
  },
  {
   "cell_type": "code",
   "execution_count": null,
   "metadata": {},
   "outputs": [],
   "source": [
    "exp(0.98 * 0.45)"
   ]
  },
  {
   "cell_type": "code",
   "execution_count": null,
   "metadata": {},
   "outputs": [],
   "source": [
    "sol = solve(prob, abstol=1e-8, reltol=1e-8)"
   ]
  },
  {
   "cell_type": "code",
   "execution_count": null,
   "metadata": {},
   "outputs": [],
   "source": [
    "plot(sol, ylabel=\"u( t )\")\n",
    "plot!(sol.t, t -> 1.0*exp(0.98t), lw=3, ls=:dash, label=\"True Solution!\")"
   ]
  },
  {
   "cell_type": "code",
   "execution_count": null,
   "metadata": {},
   "outputs": [],
   "source": [
    "sol = solve(prob, alg_hints=[:stiff])"
   ]
  },
  {
   "cell_type": "code",
   "execution_count": null,
   "metadata": {},
   "outputs": [],
   "source": [
    "sol(0.45)"
   ]
  },
  {
   "cell_type": "code",
   "execution_count": null,
   "metadata": {},
   "outputs": [],
   "source": [
    "exp(0.98*0.45)"
   ]
  },
  {
   "cell_type": "code",
   "execution_count": null,
   "metadata": {},
   "outputs": [],
   "source": [
    "sol = solve(prob, Tsit5(), reltol=1e-6)"
   ]
  },
  {
   "cell_type": "code",
   "execution_count": null,
   "metadata": {},
   "outputs": [],
   "source": [
    "A = Array(sol)"
   ]
  },
  {
   "cell_type": "markdown",
   "metadata": {},
   "source": [
    "## Lotka-Volterra equations\n",
    "\n",
    "\\begin{align}\n",
    "    \\frac{ d x( t ) }{ dt } &= a x( t ) - b x( t ) y( t ) \\\\\n",
    "    \\frac{ d y( t ) }{ dt } &= -c y( t ) + d x( t ) y( t )\n",
    "\\end{align}\n",
    "\n",
    "$x( t )$ - number of rabbits.\n",
    "\n",
    "$y( t )$ - number of foxes.\n",
    "\n",
    "$a$, $b$, $c$, $d$ - parameters of interaction between rabits and foxes."
   ]
  },
  {
   "cell_type": "code",
   "execution_count": null,
   "metadata": {},
   "outputs": [],
   "source": [
    "function lotka_volterra!(du, u, p, t)\n",
    "    du[1] = p[1]*u[1] - p[2]*u[1]*u[2]\n",
    "    du[2] = -p[3]*u[2] + p[4]*u[1]*u[2]\n",
    "end"
   ]
  },
  {
   "cell_type": "code",
   "execution_count": null,
   "metadata": {},
   "outputs": [],
   "source": [
    "u0 = [1.0, 1.0]\n",
    "p = (1.5, 1.0, 3.0, 1.0)\n",
    "tspan = (0.0, 15.0)\n",
    "prob = ODEProblem(lotka_volterra!, u0, tspan, p)\n",
    "sol = solve(prob)"
   ]
  },
  {
   "cell_type": "code",
   "execution_count": null,
   "metadata": {
    "scrolled": true
   },
   "outputs": [],
   "source": [
    "plot(sol, xlabel=\"t\", ylabel=\"number of animals (in thousands)\", title=\"Rabbits and foxes population in Lotka-Volttera model\")"
   ]
  },
  {
   "cell_type": "code",
   "execution_count": null,
   "metadata": {},
   "outputs": [],
   "source": [
    "phasespace_plot = plot(sol, vars=(1,2), xlabel=\"rabbits (in thousands)\", ylabel=\"foxes (in thousands)\")"
   ]
  },
  {
   "cell_type": "code",
   "execution_count": null,
   "metadata": {},
   "outputs": [],
   "source": [
    "savefig(phasespace_plot, \"phasespace_plot.png\")"
   ]
  },
  {
   "cell_type": "markdown",
   "metadata": {},
   "source": [
    "### This is not easy to read"
   ]
  },
  {
   "cell_type": "code",
   "execution_count": null,
   "metadata": {},
   "outputs": [],
   "source": [
    "function lotka_volterra!(du, u, p, t)\n",
    "    du[1] = p[1]*u[1] - p[2]*u[1]*u[2]\n",
    "    du[2] = -p[3]*u[2] + p[4]*u[1]*u[2]\n",
    "end"
   ]
  },
  {
   "cell_type": "markdown",
   "metadata": {},
   "source": [
    "## Some Lisp-like macro magic"
   ]
  },
  {
   "cell_type": "code",
   "execution_count": null,
   "metadata": {},
   "outputs": [],
   "source": [
    "# import Pkg; Pkg.add(\"ParameterizedFunctions\")\n",
    "using ParameterizedFunctions"
   ]
  },
  {
   "cell_type": "code",
   "execution_count": null,
   "metadata": {},
   "outputs": [],
   "source": [
    "lv! = @ode_def LotkaVolterra begin\n",
    "    dx = a*x - b*x*y\n",
    "    dy = -c*y + d*x*y\n",
    "end a b c d"
   ]
  },
  {
   "cell_type": "code",
   "execution_count": null,
   "metadata": {},
   "outputs": [],
   "source": [
    "u0 = [1.0,1.0]\n",
    "p = (1.5,1.0,3.0,1.0)\n",
    "tspan = (0.0,15.0)\n",
    "prob = ODEProblem(lv!, u0, tspan, p)\n",
    "sol = solve(prob)\n",
    "plot(sol, xlabel=\"t\", ylabel=\"number of animals (in thousands)\", title=\"Rabbits and foxes population in Lotka-Volttera model\")"
   ]
  },
  {
   "cell_type": "code",
   "execution_count": null,
   "metadata": {},
   "outputs": [],
   "source": [
    "plot(sol, vars=(1,2), xlabel=\"rabbits (in thousands)\", ylabel=\"foxes (in thousands)\")"
   ]
  },
  {
   "cell_type": "code",
   "execution_count": null,
   "metadata": {},
   "outputs": [],
   "source": [
    "lv!.Jex"
   ]
  },
  {
   "cell_type": "code",
   "execution_count": null,
   "metadata": {},
   "outputs": [],
   "source": [
    "using Latexify\n",
    "\n",
    "latexify(lv!)"
   ]
  },
  {
   "cell_type": "markdown",
   "metadata": {},
   "source": [
    "## Matrix valued problem"
   ]
  },
  {
   "cell_type": "code",
   "execution_count": null,
   "metadata": {},
   "outputs": [],
   "source": [
    " import Pkg; Pkg.add(\"StaticArrays\")\n",
    "using StaticArrays"
   ]
  },
  {
   "cell_type": "code",
   "execution_count": null,
   "metadata": {},
   "outputs": [],
   "source": [
    "A = @SMatrix [ 1.0  0.0 0.0 -5.0\n",
    "               4.0 -2.0 4.0 -3.0\n",
    "              -4.0  0.0 0.0  1.0\n",
    "               5.0 -2.0 2.0  3.0]\n",
    "u0 = @SMatrix [1.0 0.0\n",
    "               0.0 1.0\n",
    "               0.0 0.0\n",
    "               1.0 0.0]\n",
    "tspan = (0.0,1.0)\n",
    "f(u, p, t) = A*u\n",
    "prob = ODEProblem(f, u0, tspan)\n",
    "sol = solve(prob)"
   ]
  },
  {
   "cell_type": "code",
   "execution_count": null,
   "metadata": {},
   "outputs": [],
   "source": [
    "sol[3]"
   ]
  },
  {
   "cell_type": "markdown",
   "metadata": {},
   "source": [
    "## [Hénon–Heiles system](https://en.wikipedia.org/wiki/H%C3%A9non%E2%80%93Heiles_system)\n",
    "\n",
    "\\begin{equation*}\n",
    "    H( x, y, p_{ x }, p_{ y } ) = \\frac{ 1 }{ 2 } ( p_{ x }^{ 2 } + p_{ y }^{ 2 } )\n",
    "    + \\frac{ 1 }{ 2 } ( x^{ 2 } + y^{ 2 } ) + \\lambda \\left( x^{ 2 } y - \\frac{ y^{ 2 } }{ 3 } \\right)\n",
    "\\end{equation*}\n",
    "\n",
    "\\begin{align}\n",
    "    \\frac{dx( t )}{dt} &= p_{ x }( t ) \\\\[0.4em]\n",
    "    \\frac{dp_{ x }( t )}{dt} &=  - x - 2 \\lambda x( t ) y( t ) \\\\[0.4em]\n",
    "    \\frac{dy( t )}{dt} &= p_{ y }( t ) \\\\[0.4em]\n",
    "    \\frac{dp_{ y }( t )}{dt} &=  - y( t ) - \\lambda \\left( x( t )^{2} - y( t )^{2} \\right)\n",
    "\\end{align}\n",
    "\n",
    "![Henon-Heiles system](../SeminarPictures/Henon_Heiles_potential.svg)"
   ]
  },
  {
   "cell_type": "code",
   "execution_count": null,
   "metadata": {},
   "outputs": [],
   "source": [
    "# import Pkg; Pkg.add(\"ParameterizedFunctions\")\n",
    "using DifferentialEquations, ParameterizedFunctions"
   ]
  },
  {
   "cell_type": "code",
   "execution_count": null,
   "metadata": {
    "scrolled": true
   },
   "outputs": [],
   "source": [
    "HH_sys! = @ode_def HenonHeiles begin\n",
    "    dx = px\n",
    "    dpx = -x - 2λ * x * y\n",
    "    dy = py\n",
    "    dpy = -y - λ * (x^2 - y^2)\n",
    "end λ"
   ]
  },
  {
   "cell_type": "code",
   "execution_count": null,
   "metadata": {},
   "outputs": [],
   "source": [
    "latexify(HH_sys!)"
   ]
  },
  {
   "cell_type": "code",
   "execution_count": null,
   "metadata": {},
   "outputs": [],
   "source": [
    "latexify(HH_sys!) |> print"
   ]
  },
  {
   "cell_type": "code",
   "execution_count": null,
   "metadata": {},
   "outputs": [],
   "source": [
    "typeof(HH_sys!)"
   ]
  },
  {
   "cell_type": "code",
   "execution_count": null,
   "metadata": {},
   "outputs": [],
   "source": [
    "# λ = 1\n",
    "# init0 = [1.0, 0.0, 0.0, 0.0]\n",
    "# prob = ODEProblem(HH_sys!, init0, (0.0, 1.0), λ)\n",
    "# sol = solve(prob)"
   ]
  },
  {
   "cell_type": "code",
   "execution_count": null,
   "metadata": {},
   "outputs": [],
   "source": [
    "# plot(sol, vars=(1, 3), xlabel=\"x\", ylabel=\"y\", xlim=(-3,3), ylim=(-3,3), title=\"Henon-Helies system\")"
   ]
  },
  {
   "cell_type": "code",
   "execution_count": null,
   "metadata": {},
   "outputs": [],
   "source": [
    "λ = 1\n",
    "init0 = [0.5, 0.0, 0.0, 0.0]\n",
    "prob = ODEProblem(HH_sys!, init0, (0.0, 5.0), λ)\n",
    "sol = solve(prob)"
   ]
  },
  {
   "cell_type": "code",
   "execution_count": null,
   "metadata": {},
   "outputs": [],
   "source": [
    "plot(sol, vars=(1, 3),\n",
    "    width=1,\n",
    "    xlabel=\"x\", ylabel=\"y\", xlim=(-1,1), ylim=(-1,1), title=\"Henon-Helies system\")"
   ]
  },
  {
   "cell_type": "code",
   "execution_count": null,
   "metadata": {},
   "outputs": [],
   "source": [
    "typeof(sol)"
   ]
  },
  {
   "cell_type": "code",
   "execution_count": null,
   "metadata": {},
   "outputs": [],
   "source": [
    "prob = ODEProblem(HH_sys!, init0, (0.0, 10.0), λ)\n",
    "sol = solve(prob)\n",
    "plot(sol, vars=(1, 3),\n",
    "    width=1,\n",
    "    xlabel=\"x\", ylabel=\"y\", xlim=(-1,1), ylim=(-1,1), title=\"Henon-Helies system\")"
   ]
  },
  {
   "cell_type": "code",
   "execution_count": null,
   "metadata": {},
   "outputs": [],
   "source": [
    "prob = ODEProblem(HH_sys!, init0, (0.0, 20.0), λ)\n",
    "sol = solve(prob)\n",
    "plot(sol, vars=(1, 3),\n",
    "    width=1,\n",
    "    xlabel=\"x\", ylabel=\"y\", xlim=(-1,1), ylim=(-1,1), title=\"Henon-Helies system\")"
   ]
  },
  {
   "cell_type": "code",
   "execution_count": null,
   "metadata": {},
   "outputs": [],
   "source": [
    "prob = ODEProblem(HH_sys!, init0, (0.0, 50.0), λ)\n",
    "sol = solve(prob)\n",
    "plot(sol, vars=(1, 3),\n",
    "    width=1,\n",
    "    xlabel=\"x\", ylabel=\"y\", xlim=(-1,1), ylim=(-1,1), title=\"Henon-Helies system\")"
   ]
  },
  {
   "cell_type": "code",
   "execution_count": null,
   "metadata": {},
   "outputs": [],
   "source": [
    "# init0 = [0.0, 0.5, 0.1, 0.0]\n",
    "prob = ODEProblem(HH_sys!, init0, (0.0, 100.0), λ)\n",
    "sol = solve(prob)\n",
    "plot(sol, vars=(1, 3),\n",
    "    width=1,\n",
    "    xlabel=\"x\", ylabel=\"y\", xlim=(-1,1), ylim=(-1,1), title=\"Henon-Helies system\")"
   ]
  },
  {
   "cell_type": "code",
   "execution_count": null,
   "metadata": {},
   "outputs": [],
   "source": [
    "prob = ODEProblem(HH_sys!, init0, (0.0, 300.0), λ)\n",
    "sol = solve(prob)\n",
    "plot(sol, vars=(1, 3),\n",
    "    width=1,\n",
    "    xlabel=\"x\", ylabel=\"y\", xlim=(-1,1), ylim=(-1,1), title=\"Henon-Helies system\")"
   ]
  },
  {
   "cell_type": "code",
   "execution_count": null,
   "metadata": {
    "scrolled": true
   },
   "outputs": [],
   "source": [
    "prob = ODEProblem(HH_sys!, init0, (0.0, 1000.0), λ)\n",
    "sol = solve(prob)\n",
    "plot(sol, vars=(1, 3),\n",
    "    width=1,\n",
    "    xlabel=\"x\", ylabel=\"y\", xlim=(-1,1), ylim=(-1,1), title=\"Henon-Helies system\")"
   ]
  },
  {
   "cell_type": "code",
   "execution_count": null,
   "metadata": {},
   "outputs": [],
   "source": [
    "prob = ODEProblem(HH_sys!, init0, (0.0, 2000.0), λ)\n",
    "sol = solve(prob)\n",
    "plot(sol, vars=(1, 3),\n",
    "    width=1,\n",
    "    xlabel=\"x\", ylabel=\"y\", xlim=(-1,1), ylim=(-1,1), title=\"Henon-Helies system\")"
   ]
  },
  {
   "cell_type": "code",
   "execution_count": null,
   "metadata": {},
   "outputs": [],
   "source": [
    "plot(sol, xlabel=\"t\", ylabel=\"postions and momentums\", title=\"Henon-Helies system\")"
   ]
  },
  {
   "cell_type": "code",
   "execution_count": null,
   "metadata": {},
   "outputs": [],
   "source": [
    "prob = ODEProblem(HH_sys!, init0, (0.0, 3000.0), λ)\n",
    "sol = solve(prob)\n",
    "plot(sol, vars=(1, 3),\n",
    "    width=1,\n",
    "    xlabel=\"x\", ylabel=\"y\", xlim=(-1,1), ylim=(-1,1), title=\"Henon-Helies system\")"
   ]
  },
  {
   "cell_type": "code",
   "execution_count": null,
   "metadata": {},
   "outputs": [],
   "source": [
    "plot(sol, xlabel=\"t\", ylabel=\"postions and momentums\", title=\"Henon-Helies system\")"
   ]
  },
  {
   "cell_type": "code",
   "execution_count": null,
   "metadata": {},
   "outputs": [],
   "source": [
    "λ = 0\n",
    "init0 = [1.9, 0, 0, 0]\n",
    "prob = ODEProblem(HH_sys!, init0, (0, 10.0), λ)\n",
    "sol = solve(prob)"
   ]
  },
  {
   "cell_type": "code",
   "execution_count": null,
   "metadata": {},
   "outputs": [],
   "source": [
    "plot(sol, vars=(1,2), xlabel=\"x\", ylabel=\"p_x\", title=\"Henon-Helies system\")"
   ]
  }
 ],
 "metadata": {
  "@webio": {
   "lastCommId": null,
   "lastKernelId": null
  },
  "kernelspec": {
   "display_name": "Julia 1.3.1",
   "language": "julia",
   "name": "julia-1.3"
  },
  "language_info": {
   "file_extension": ".jl",
   "mimetype": "application/julia",
   "name": "julia",
   "version": "1.3.1"
  }
 },
 "nbformat": 4,
 "nbformat_minor": 2
}
