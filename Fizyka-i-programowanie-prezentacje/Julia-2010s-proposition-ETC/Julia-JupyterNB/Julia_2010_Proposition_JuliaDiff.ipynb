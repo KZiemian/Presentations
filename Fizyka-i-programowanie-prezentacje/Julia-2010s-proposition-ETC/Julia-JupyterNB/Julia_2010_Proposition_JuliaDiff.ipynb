{
 "cells": [
  {
   "cell_type": "markdown",
   "metadata": {},
   "source": [
    "# [An Intro to DifferentialEquations.jl](https://github.com/JuliaDiffEq/DiffEqTutorials.jl/blob/master/notebook/introduction/01-ode_introduction.ipynb)\n",
    "\n",
    "## Basic Introduction Via Ordinary Differential Equations"
   ]
  },
  {
   "cell_type": "code",
   "execution_count": null,
   "metadata": {},
   "outputs": [],
   "source": [
    "import Pkg; Pkg.add([\"DifferentialEquations\", \"Plots\"])"
   ]
  },
  {
   "cell_type": "code",
   "execution_count": null,
   "metadata": {},
   "outputs": [],
   "source": [
    "using DifferentialEquations\n",
    "using Plots; gr()"
   ]
  },
  {
   "cell_type": "code",
   "execution_count": null,
   "metadata": {},
   "outputs": [],
   "source": [
    "f(u, p, t) = 0.98u\n",
    "u0 = 1.0\n",
    "tspan = (0.0,1.0)"
   ]
  },
  {
   "cell_type": "code",
   "execution_count": null,
   "metadata": {
    "scrolled": true
   },
   "outputs": [],
   "source": [
    "prob = ODEProblem(f, u0, tspan)"
   ]
  },
  {
   "cell_type": "code",
   "execution_count": null,
   "metadata": {},
   "outputs": [],
   "source": [
    "sol = solve(prob)"
   ]
  },
  {
   "cell_type": "code",
   "execution_count": null,
   "metadata": {},
   "outputs": [],
   "source": [
    "plot(sol, linewidth=5, title=\"Solution to the linear ODE with a thick line\",\n",
    "    xaxis=\"Time (t)\", yaxis=\"u(t) (in μm)\", label=\"My Thick Line!\") # legend = false"
   ]
  },
  {
   "cell_type": "code",
   "execution_count": null,
   "metadata": {},
   "outputs": [],
   "source": [
    "plot!(sol.t, t -> 1.0*exp(0.98t), lw=3, ls=:dash, label=\"True Solution!\")"
   ]
  },
  {
   "cell_type": "code",
   "execution_count": null,
   "metadata": {},
   "outputs": [],
   "source": [
    "sol.t"
   ]
  },
  {
   "cell_type": "code",
   "execution_count": null,
   "metadata": {},
   "outputs": [],
   "source": [
    "sol.u"
   ]
  },
  {
   "cell_type": "code",
   "execution_count": null,
   "metadata": {},
   "outputs": [],
   "source": [
    "[t + u for (u,t) in tuples(sol)]"
   ]
  },
  {
   "cell_type": "code",
   "execution_count": null,
   "metadata": {},
   "outputs": [],
   "source": [
    "sol"
   ]
  },
  {
   "cell_type": "code",
   "execution_count": null,
   "metadata": {},
   "outputs": [],
   "source": [
    "sol(0.45)"
   ]
  },
  {
   "cell_type": "code",
   "execution_count": null,
   "metadata": {},
   "outputs": [],
   "source": [
    "sol = solve(prob, abstol=1e-8, reltol=1e-8)"
   ]
  },
  {
   "cell_type": "code",
   "execution_count": null,
   "metadata": {},
   "outputs": [],
   "source": [
    "plot(sol)\n",
    "plot!(sol.t, t -> 1.0*exp(0.98t), lw=3, ls=:dash, label=\"True Solution!\")"
   ]
  },
  {
   "cell_type": "code",
   "execution_count": null,
   "metadata": {},
   "outputs": [],
   "source": [
    "sol = solve(prob, saveat=0.1)"
   ]
  },
  {
   "cell_type": "code",
   "execution_count": null,
   "metadata": {},
   "outputs": [],
   "source": [
    "sol = solve(prob,saveat=[0.2,0.7,0.9])"
   ]
  },
  {
   "cell_type": "code",
   "execution_count": null,
   "metadata": {},
   "outputs": [],
   "source": [
    "sol = solve(prob, dense=false)"
   ]
  },
  {
   "cell_type": "code",
   "execution_count": null,
   "metadata": {},
   "outputs": [],
   "source": [
    "sol = solve(prob, save_everystep=false)"
   ]
  },
  {
   "cell_type": "code",
   "execution_count": null,
   "metadata": {},
   "outputs": [],
   "source": [
    "sol = solve(prob, save_everystep=false, save_start=false)"
   ]
  },
  {
   "cell_type": "code",
   "execution_count": null,
   "metadata": {},
   "outputs": [],
   "source": [
    "sol = solve(prob, alg_hints=[:stiff])"
   ]
  },
  {
   "cell_type": "code",
   "execution_count": null,
   "metadata": {},
   "outputs": [],
   "source": [
    "sol = solve(prob, Tsit5(), reltol=1e-6)"
   ]
  },
  {
   "cell_type": "code",
   "execution_count": null,
   "metadata": {},
   "outputs": [],
   "source": [
    "function lorenz!(du, u, p, t)\n",
    "    σ, ρ, β = p\n",
    "    \n",
    "    du[1] = σ * (u[2] - u[1])\n",
    "    du[2] = u[1]*(ρ - u[3]) - u[2]\n",
    "    du[3] = u[1]*u[2] - β*u[3]\n",
    "end"
   ]
  },
  {
   "cell_type": "code",
   "execution_count": null,
   "metadata": {},
   "outputs": [],
   "source": [
    "u0 = [1.0, 0.0, 0.0]"
   ]
  },
  {
   "cell_type": "code",
   "execution_count": null,
   "metadata": {},
   "outputs": [],
   "source": [
    "p = (10, 28, 8/3)"
   ]
  },
  {
   "cell_type": "code",
   "execution_count": null,
   "metadata": {},
   "outputs": [],
   "source": [
    "tspan = (0.0, 100.0)\n",
    "prob = ODEProblem(lorenz!, u0, tspan, p)"
   ]
  },
  {
   "cell_type": "code",
   "execution_count": null,
   "metadata": {},
   "outputs": [],
   "source": [
    "sol = solve(prob)"
   ]
  },
  {
   "cell_type": "code",
   "execution_count": null,
   "metadata": {},
   "outputs": [],
   "source": [
    "sol.t[10], sol[10]"
   ]
  },
  {
   "cell_type": "code",
   "execution_count": null,
   "metadata": {},
   "outputs": [],
   "source": [
    "sol[2, 10]"
   ]
  },
  {
   "cell_type": "code",
   "execution_count": null,
   "metadata": {},
   "outputs": [],
   "source": [
    "A = Array(sol)"
   ]
  },
  {
   "cell_type": "code",
   "execution_count": null,
   "metadata": {},
   "outputs": [],
   "source": [
    "plot(sol)"
   ]
  },
  {
   "cell_type": "code",
   "execution_count": null,
   "metadata": {},
   "outputs": [],
   "source": [
    "plot(sol, vars=(1,2,3))"
   ]
  },
  {
   "cell_type": "code",
   "execution_count": null,
   "metadata": {},
   "outputs": [],
   "source": [
    "plot(sol, vars=(1,2,3), denseplot=false)"
   ]
  },
  {
   "cell_type": "code",
   "execution_count": null,
   "metadata": {},
   "outputs": [],
   "source": [
    "plot(sol, vars=(0,2))"
   ]
  },
  {
   "cell_type": "code",
   "execution_count": null,
   "metadata": {},
   "outputs": [],
   "source": [
    "function lotka_volterra!(du, u, p, t)\n",
    "    du[1] = p[1]*u[1] - p[2]*u[1]*u[2]\n",
    "    du[2] = -p[3]*u[2] + p[4]*u[1]*u[2]\n",
    "end"
   ]
  },
  {
   "cell_type": "code",
   "execution_count": null,
   "metadata": {},
   "outputs": [],
   "source": [
    "# import Pkg; Pkg.add(\"ParameterizedFunctions\")\n",
    "using ParameterizedFunctions"
   ]
  },
  {
   "cell_type": "code",
   "execution_count": null,
   "metadata": {},
   "outputs": [],
   "source": [
    "lv! = @ode_def LotkaVolterra begin\n",
    "    dx = a*x - b*x*y\n",
    "    dy = -c*y + d*x*y\n",
    "end a b c d"
   ]
  },
  {
   "cell_type": "code",
   "execution_count": null,
   "metadata": {},
   "outputs": [],
   "source": [
    "u0 = [1.0,1.0]\n",
    "p = (1.5,1.0,3.0,1.0)\n",
    "tspan = (0.0,10.0)\n",
    "prob = ODEProblem(lv!, u0, tspan, p)\n",
    "sol = solve(prob)\n",
    "plot(sol)"
   ]
  },
  {
   "cell_type": "code",
   "execution_count": null,
   "metadata": {},
   "outputs": [],
   "source": [
    "lv!.Jex"
   ]
  },
  {
   "cell_type": "code",
   "execution_count": null,
   "metadata": {},
   "outputs": [],
   "source": [
    "A = [1.0  0  0 -5\n",
    "     4   -2  4 -3\n",
    "    -4    0  0  1\n",
    "     5   -2  2  3]\n",
    "u0 = rand(4, 2)\n",
    "tspan = (0.0,1.0)\n",
    "f(u, p, t) = A*u\n",
    "prob = ODEProblem(f, u0, tspan)\n",
    "sol = solve(prob)"
   ]
  },
  {
   "cell_type": "code",
   "execution_count": null,
   "metadata": {},
   "outputs": [],
   "source": [
    "sol[3]"
   ]
  },
  {
   "cell_type": "code",
   "execution_count": null,
   "metadata": {},
   "outputs": [],
   "source": [
    "big_u0 = big.(u0)"
   ]
  },
  {
   "cell_type": "code",
   "execution_count": null,
   "metadata": {},
   "outputs": [],
   "source": [
    "prob = ODEProblem(f, big_u0, tspan)\n",
    "sol = solve(prob)"
   ]
  },
  {
   "cell_type": "code",
   "execution_count": null,
   "metadata": {},
   "outputs": [],
   "source": [
    "sol[1, 3]"
   ]
  },
  {
   "cell_type": "code",
   "execution_count": null,
   "metadata": {},
   "outputs": [],
   "source": [
    "prob = ODEProblem(f, big_u0, big.(tspan))\n",
    "sol = solve(prob)"
   ]
  },
  {
   "cell_type": "code",
   "execution_count": null,
   "metadata": {},
   "outputs": [],
   "source": [
    "# import Pkg; Pkg.add(\"StaticArrays\")\n",
    "using StaticArrays"
   ]
  },
  {
   "cell_type": "code",
   "execution_count": null,
   "metadata": {},
   "outputs": [],
   "source": [
    "A = @SMatrix [ 1.0  0.0 0.0 -5.0\n",
    "               4.0 -2.0 4.0 -3.0\n",
    "              -4.0  0.0 0.0  1.0\n",
    "               5.0 -2.0 2.0  3.0]\n",
    "u0 = @SMatrix rand(4,2)\n",
    "tspan = (0.0,1.0)\n",
    "f(u, p, t) = A*u\n",
    "prob = ODEProblem(f, u0, tspan)\n",
    "sol = solve(prob)"
   ]
  },
  {
   "cell_type": "code",
   "execution_count": null,
   "metadata": {},
   "outputs": [],
   "source": [
    "sol[3]"
   ]
  },
  {
   "cell_type": "markdown",
   "metadata": {},
   "source": [
    "## [Choosing an ODE Algorithm](https://github.com/JuliaDiffEq/DiffEqTutorials.jl/blob/master/notebook/introduction/02-choosing_algs.ipynb)"
   ]
  },
  {
   "cell_type": "code",
   "execution_count": null,
   "metadata": {},
   "outputs": [],
   "source": [
    "# import Pkg; Pkg.add(\"ParameterizedFunctions\")\n",
    "using DifferentialEquations, ParameterizedFunctions"
   ]
  },
  {
   "cell_type": "code",
   "execution_count": null,
   "metadata": {},
   "outputs": [],
   "source": [
    "van! = @ode_def VanDerPol begin\n",
    "    dy = μ*((1 - x^2)*y - x)\n",
    "    dx = 1*y\n",
    "end μ"
   ]
  },
  {
   "cell_type": "code",
   "execution_count": null,
   "metadata": {},
   "outputs": [],
   "source": [
    "prob = ODEProblem(van!, [0.0,2.0], (0.0,6.3), 1e6)"
   ]
  },
  {
   "cell_type": "code",
   "execution_count": null,
   "metadata": {},
   "outputs": [],
   "source": [
    "sol = solve(prob, Tsit5())"
   ]
  },
  {
   "cell_type": "code",
   "execution_count": null,
   "metadata": {},
   "outputs": [],
   "source": [
    "plot(sol)"
   ]
  },
  {
   "cell_type": "code",
   "execution_count": null,
   "metadata": {},
   "outputs": [],
   "source": [
    "sol = solve(prob, alg_hints = [:stiff])"
   ]
  },
  {
   "cell_type": "code",
   "execution_count": null,
   "metadata": {},
   "outputs": [],
   "source": [
    "sol = solve(prob)"
   ]
  },
  {
   "cell_type": "code",
   "execution_count": null,
   "metadata": {},
   "outputs": [],
   "source": [
    "using Plots; gr()"
   ]
  },
  {
   "cell_type": "code",
   "execution_count": null,
   "metadata": {},
   "outputs": [],
   "source": [
    "sol = solve(prob, alg_hints = [:stiff], realtol=1e-6)\n",
    "plot(sol, denseplot=false)"
   ]
  },
  {
   "cell_type": "code",
   "execution_count": null,
   "metadata": {},
   "outputs": [],
   "source": [
    "plot(sol, ylims=(-10.0,10.0))"
   ]
  },
  {
   "cell_type": "code",
   "execution_count": null,
   "metadata": {},
   "outputs": [],
   "source": [
    "function lorenz!(du, u, p, t)\n",
    "    σ, ρ, β = p\n",
    "    \n",
    "    du[1] = σ*(u[2] - u[1])\n",
    "    du[2] = u[1]*(ρ - u[3])\n",
    "    du[3] = u[1]*u[2] - β*u[3]\n",
    "end"
   ]
  },
  {
   "cell_type": "code",
   "execution_count": null,
   "metadata": {},
   "outputs": [],
   "source": [
    "u0 = [1.0,0.0,0.0]\n",
    "p = (10,28,8/3)\n",
    "tspan = (0.0,100.0)\n",
    "prob = ODEProblem(lorenz!, u0, tspan, p)"
   ]
  },
  {
   "cell_type": "code",
   "execution_count": null,
   "metadata": {},
   "outputs": [],
   "source": [
    "# import Pkg; Pkg.add(\"BenchmarkTools\")\n",
    "using BenchmarkTools"
   ]
  },
  {
   "cell_type": "code",
   "execution_count": null,
   "metadata": {},
   "outputs": [],
   "source": [
    "@btime solve(prob);"
   ]
  },
  {
   "cell_type": "code",
   "execution_count": null,
   "metadata": {},
   "outputs": [],
   "source": [
    "@btime solve(prob, alg_hints = [:stiff]);"
   ]
  },
  {
   "cell_type": "markdown",
   "metadata": {},
   "source": [
    "## [Optimizing DiffEq Code](https://github.com/JuliaDiffEq/DiffEqTutorials.jl/blob/master/notebook/introduction/03-optimizing_diffeq_code.ipynb)"
   ]
  },
  {
   "cell_type": "code",
   "execution_count": null,
   "metadata": {},
   "outputs": [],
   "source": [
    "# import Pkg; Pkg.add(\"BenchmarkTools\")\n",
    "using DifferentialEquations, BenchmarkTools"
   ]
  },
  {
   "cell_type": "code",
   "execution_count": null,
   "metadata": {},
   "outputs": [],
   "source": [
    "function lorenz(u, p, t)\n",
    "    dx = 10.0*(u[2] - u[1])\n",
    "    dy = u[1]*(28.0 - u[3]) - u[2]\n",
    "    dz = u[1]*u[2] - (8/3)*u[3]\n",
    "    [dx,dy,dz]\n",
    "end"
   ]
  },
  {
   "cell_type": "code",
   "execution_count": null,
   "metadata": {
    "scrolled": true
   },
   "outputs": [],
   "source": [
    "u0 = [1.0;0.0;0.0]\n",
    "tspan = (0.0,100.0)\n",
    "prob = ODEProblem(lorenz,u0,tspan)"
   ]
  },
  {
   "cell_type": "code",
   "execution_count": null,
   "metadata": {},
   "outputs": [],
   "source": [
    "@benchmark solve(prob,Tsit5())"
   ]
  },
  {
   "cell_type": "code",
   "execution_count": null,
   "metadata": {},
   "outputs": [],
   "source": [
    "@benchmark solve(prob, Tsit5(), save_everystep=false)"
   ]
  },
  {
   "cell_type": "code",
   "execution_count": null,
   "metadata": {},
   "outputs": [],
   "source": [
    "function lorenz!(du, u, p, t)\n",
    "    du[1] = 10.0*(u[2] - u[1])\n",
    "    du[2] = u[1]*(28.0 - u[3]) - u[2]\n",
    "    du[3] = u[1]*u[2] - (8/3)*u[3]\n",
    "end"
   ]
  },
  {
   "cell_type": "code",
   "execution_count": null,
   "metadata": {
    "scrolled": true
   },
   "outputs": [],
   "source": [
    "u0 = [1.0;0.0;0.0]\n",
    "tspan = (0.0,100.0)\n",
    "prob = ODEProblem(lorenz!, u0, tspan)"
   ]
  },
  {
   "cell_type": "code",
   "execution_count": null,
   "metadata": {},
   "outputs": [],
   "source": [
    "@benchmark solve(prob, Tsit5())"
   ]
  },
  {
   "cell_type": "code",
   "execution_count": null,
   "metadata": {},
   "outputs": [],
   "source": [
    "@benchmark solve(prob, Tsit5(), save_everystep=false)"
   ]
  },
  {
   "cell_type": "code",
   "execution_count": null,
   "metadata": {
    "scrolled": true
   },
   "outputs": [],
   "source": [
    "tspan = (0.0,500.0)\n",
    "prob = ODEProblem(lorenz!, u0, tspan)"
   ]
  },
  {
   "cell_type": "code",
   "execution_count": null,
   "metadata": {},
   "outputs": [],
   "source": [
    "@benchmark solve(prob, Tsit5(), save_everystep=false)"
   ]
  },
  {
   "cell_type": "code",
   "execution_count": null,
   "metadata": {},
   "outputs": [],
   "source": [
    "# import Pkg; Pkg.add(\"StaticArrays\")\n",
    "using StaticArrays"
   ]
  },
  {
   "cell_type": "code",
   "execution_count": null,
   "metadata": {},
   "outputs": [],
   "source": [
    "A = @SVector [2.0,3.0,5.0]"
   ]
  },
  {
   "cell_type": "code",
   "execution_count": null,
   "metadata": {},
   "outputs": [],
   "source": [
    "function lorenz_static(u, p, t)\n",
    "    dx = 10.0*(u[2] - u[1])\n",
    "    dy = u[1]*(28.0 - u[3]) - u[2]\n",
    "    dz = u[1]*u[2] - (8/3)*u[3]\n",
    "    @SVector [dx,dy,dz]\n",
    "end"
   ]
  },
  {
   "cell_type": "code",
   "execution_count": null,
   "metadata": {},
   "outputs": [],
   "source": [
    "u0 = @SVector [1.0,0.0,0.0]\n",
    "tspan = (0.0,100.0)\n",
    "prob = ODEProblem(lorenz_static,u0,tspan)"
   ]
  },
  {
   "cell_type": "code",
   "execution_count": null,
   "metadata": {},
   "outputs": [],
   "source": [
    "@benchmark solve(prob,Tsit5())"
   ]
  },
  {
   "cell_type": "code",
   "execution_count": null,
   "metadata": {},
   "outputs": [],
   "source": [
    "@benchmark solve(prob,Tsit5(),save_everystep=false)"
   ]
  },
  {
   "cell_type": "markdown",
   "metadata": {},
   "source": [
    "### Matrix multiplication"
   ]
  },
  {
   "cell_type": "code",
   "execution_count": null,
   "metadata": {},
   "outputs": [],
   "source": [
    "A = rand(1_000,1_000); B = rand(1_000,1_000); C = rand(1_000,1_000)\n",
    "test(A, B, C) = A + B + C"
   ]
  },
  {
   "cell_type": "code",
   "execution_count": null,
   "metadata": {
    "scrolled": true
   },
   "outputs": [],
   "source": [
    "@benchmark test(A, B, C)"
   ]
  },
  {
   "cell_type": "code",
   "execution_count": null,
   "metadata": {},
   "outputs": [],
   "source": [
    "test2(A, B, C) = map((a, b, c) -> a + b + c, A, B, C)"
   ]
  },
  {
   "cell_type": "code",
   "execution_count": null,
   "metadata": {
    "scrolled": true
   },
   "outputs": [],
   "source": [
    "@benchmark test2(A, B, C)"
   ]
  },
  {
   "cell_type": "code",
   "execution_count": null,
   "metadata": {},
   "outputs": [],
   "source": [
    "methods(test2)"
   ]
  },
  {
   "cell_type": "code",
   "execution_count": null,
   "metadata": {},
   "outputs": [],
   "source": [
    "function test3(A, B, C)\n",
    "    D = similar(A)\n",
    "    @inbounds for i in eachindex(A)\n",
    "        D[i] = A[i] + B[i] + C[i]\n",
    "    end\n",
    "    D\n",
    "end"
   ]
  },
  {
   "cell_type": "code",
   "execution_count": null,
   "metadata": {
    "scrolled": true
   },
   "outputs": [],
   "source": [
    "@benchmark test3(A, B, C)"
   ]
  },
  {
   "cell_type": "code",
   "execution_count": null,
   "metadata": {},
   "outputs": [],
   "source": [
    "test4(A, B, C) = A .+ B .+ C"
   ]
  },
  {
   "cell_type": "code",
   "execution_count": null,
   "metadata": {
    "scrolled": true
   },
   "outputs": [],
   "source": [
    "@benchmark test4(A, B, C)"
   ]
  },
  {
   "cell_type": "code",
   "execution_count": null,
   "metadata": {},
   "outputs": [],
   "source": [
    "sin.(A) .+ sin.(B)"
   ]
  },
  {
   "cell_type": "code",
   "execution_count": null,
   "metadata": {},
   "outputs": [],
   "source": [
    "test5(A, B, C) = @. A + B + C"
   ]
  },
  {
   "cell_type": "code",
   "execution_count": null,
   "metadata": {
    "scrolled": true
   },
   "outputs": [],
   "source": [
    "@benchmark test5(A, B, C)"
   ]
  },
  {
   "cell_type": "code",
   "execution_count": null,
   "metadata": {},
   "outputs": [],
   "source": [
    "D = zeros(1000, 1000);"
   ]
  },
  {
   "cell_type": "code",
   "execution_count": null,
   "metadata": {},
   "outputs": [],
   "source": [
    "test6!(D, A, B, C) = D .= A .+ B .+ C"
   ]
  },
  {
   "cell_type": "code",
   "execution_count": null,
   "metadata": {
    "scrolled": false
   },
   "outputs": [],
   "source": [
    "@benchmark test6!(D, A, B, C)"
   ]
  },
  {
   "cell_type": "code",
   "execution_count": null,
   "metadata": {},
   "outputs": [],
   "source": [
    "test7!(D, A, B, C) = @. D = A + B + C"
   ]
  },
  {
   "cell_type": "code",
   "execution_count": null,
   "metadata": {},
   "outputs": [],
   "source": [
    "@benchmark test7!(D, A, B, C)"
   ]
  },
  {
   "cell_type": "code",
   "execution_count": null,
   "metadata": {},
   "outputs": [],
   "source": [
    "test8!(D, A, B, C) = map!((a, b, c) -> a + b + c, D, A, B, C)"
   ]
  },
  {
   "cell_type": "code",
   "execution_count": null,
   "metadata": {},
   "outputs": [],
   "source": [
    "@benchmark test8!(D, A, B, C)"
   ]
  },
  {
   "cell_type": "code",
   "execution_count": null,
   "metadata": {},
   "outputs": [],
   "source": [
    "@benchmark A*B"
   ]
  },
  {
   "cell_type": "code",
   "execution_count": null,
   "metadata": {},
   "outputs": [],
   "source": [
    "using LinearAlgebra"
   ]
  },
  {
   "cell_type": "code",
   "execution_count": null,
   "metadata": {},
   "outputs": [],
   "source": [
    "@benchmark mul!(D, A, B)"
   ]
  },
  {
   "cell_type": "code",
   "execution_count": null,
   "metadata": {},
   "outputs": [],
   "source": [
    "?mul!"
   ]
  },
  {
   "cell_type": "code",
   "execution_count": null,
   "metadata": {},
   "outputs": [],
   "source": [
    "# Generate the constants\n",
    "p = (1.0,1.0,1.0,10.0,0.001,100.0)  # a, α, ubar, β, D1, D2\n",
    "N = 100\n",
    "Ax = Array(Tridiagonal([1.0 for i in 1:N-1], [-2.0 for i in 1:N], [1.0 for i in 1:N-1]))\n",
    "Ay = copy(Ax)\n",
    "Ax[2,1] = 2.0\n",
    "Ax[end-1,end] = 2.0\n",
    "Ay[1,2] = 2.0\n",
    "Ay[end, end-1] = 2.0\n",
    "\n",
    "function basic_version!(dr, r, p, t)\n",
    "    a, α, ubar, β, D1, D2 = p\n",
    "    u = r[:,:,1]\n",
    "    v = r[:,:,2]\n",
    "    Du = D1*(Ay*u + u*Ax)\n",
    "    Dv = D2*(Ay*v + v*Ax)\n",
    "    dr[:,:,1] = Du .+ a .* u .* u ./ v .+ ubar .- α*u\n",
    "    dr[:,:,2] = Dv .+ a .* u .* u .- β*v\n",
    "end\n",
    "\n",
    "a, α, ubar, β, D1, D2 = p\n",
    "uss = (ubar + β) / α\n",
    "vss = (a / β)*uss^2\n",
    "r0 = zeros(100,100,2)\n",
    "r0[:,:,1] .= uss .+ 0.1 .* rand.()\n",
    "r0[:,:,2] .= vss;"
   ]
  },
  {
   "cell_type": "code",
   "execution_count": null,
   "metadata": {},
   "outputs": [],
   "source": [
    "prob_basic = ODEProblem(basic_version!, r0, (0.0,0.1), p)"
   ]
  },
  {
   "cell_type": "code",
   "execution_count": null,
   "metadata": {
    "scrolled": false
   },
   "outputs": [],
   "source": [
    "@benchmark solve(prob_basic, Tsit5())"
   ]
  },
  {
   "cell_type": "code",
   "execution_count": null,
   "metadata": {},
   "outputs": [],
   "source": [
    "A = rand(4)\n",
    "@show A\n",
    "B = A[1:3]\n",
    "@show B\n",
    "B[2] = 2\n",
    "@show B\n",
    "@show A"
   ]
  },
  {
   "cell_type": "code",
   "execution_count": null,
   "metadata": {},
   "outputs": [],
   "source": [
    "B = @view A[1:3]\n",
    "B[2] = 2\n",
    "@show A"
   ]
  },
  {
   "cell_type": "code",
   "execution_count": null,
   "metadata": {},
   "outputs": [],
   "source": [
    "function gm2!(dr, r, p, t)\n",
    "    a, α, ubar, β, D1, D2 = p\n",
    "    u = @view r[:,:,1]\n",
    "    v = @view r[:,:,2]\n",
    "    du = @view dr[:,:,1]\n",
    "    dv = @view dr[:,:,2]\n",
    "    Du = D1*(Ay*u + u*Ax)\n",
    "    Dv = D2*(Ay*v + v*Ax)\n",
    "    @. du = Du + a .* u .* u ./ v + ubar - α*u\n",
    "    @. dv = Dv = a .* u .* u - β*v\n",
    "end"
   ]
  },
  {
   "cell_type": "code",
   "execution_count": null,
   "metadata": {},
   "outputs": [],
   "source": [
    "prob_gm2 = ODEProblem(gm2!, r0, (0.0,0.1), p)"
   ]
  },
  {
   "cell_type": "code",
   "execution_count": null,
   "metadata": {},
   "outputs": [],
   "source": [
    "@benchmark solve(prob_gm2, Tsit5())"
   ]
  },
  {
   "cell_type": "code",
   "execution_count": null,
   "metadata": {},
   "outputs": [],
   "source": [
    "Ayu = zeros(N, N)\n",
    "uAx = zeros(N, N)\n",
    "Du = zeros(N, N)\n",
    "Ayv = zeros(N, N)\n",
    "vAx = zeros(N, N)\n",
    "Dv = zeros(N, N)\n",
    "\n",
    "function gm3!(dr, r, p, t)\n",
    "    a, α, ubar, β, D1, D2 = p\n",
    "    u = @view r[:,:,1]\n",
    "    v = @view r[:,:,2]\n",
    "    du = @view dr[:,:,1]\n",
    "    dv = @view dr[:,:,2]\n",
    "    mul!(Ayu, Ay, u)\n",
    "    mul!(uAx, u, Ax)\n",
    "    mul!(Ayv, Ay, v)\n",
    "    mul!(vAx, v, Ax)\n",
    "    \n",
    "    @. Du = D1*(Ayu + uAx)\n",
    "    @. Dv = D2*(Ayv + vAx)\n",
    "    @. du = Du + a*u*u ./ v + ubar - α*u\n",
    "    @. dv = Dv + a*u*u - β*v\n",
    "end"
   ]
  },
  {
   "cell_type": "code",
   "execution_count": null,
   "metadata": {},
   "outputs": [],
   "source": [
    "prob_gm3 = ODEProblem(gm3!, r0, (0.0,0.1), p)"
   ]
  },
  {
   "cell_type": "code",
   "execution_count": null,
   "metadata": {},
   "outputs": [],
   "source": [
    "@benchmark solve(prob_gm3, Tsit5())"
   ]
  },
  {
   "cell_type": "code",
   "execution_count": null,
   "metadata": {},
   "outputs": [],
   "source": [
    "p = (1.0,1.0,1.0,10.0,0.001,100.0,Ayu,uAx,Du,Ayv,vAx,Dv)  # a, α, ubar, β, D1, D2\n",
    "\n",
    "function gm4!(dr, r, p, t)\n",
    "    a, α, ubar, β, D1, D2, Ayu, uAx, Du, Ayv, vAx, Dv = p\n",
    "    u = @view r[:,:,1]\n",
    "    v = @view r[:,:,2]\n",
    "    du = @view dr[:,:,1]\n",
    "    dv = @view dr[:,:,2]\n",
    "    mul!(Ayu,Ay,u)\n",
    "    mul!(uAx,u,Ax)\n",
    "    mul!(Ayv,Ay,v)\n",
    "    mul!(vAx,v,Ax)\n",
    "    @. Du = D1*(Ayu + uAx)\n",
    "    @. Dv = D2*(Ayv + vAx)\n",
    "    @. du = Du + a*u*u ./ v + ubar - α*u\n",
    "    @. dv = Dv + a*u*u - β*v\n",
    "end"
   ]
  },
  {
   "cell_type": "code",
   "execution_count": null,
   "metadata": {
    "scrolled": true
   },
   "outputs": [],
   "source": [
    "prob_gm4 = ODEProblem(gm4!, r0, (0.0,0.1), p)"
   ]
  },
  {
   "cell_type": "code",
   "execution_count": null,
   "metadata": {
    "scrolled": true
   },
   "outputs": [],
   "source": [
    "@benchmark solve(prob_gm4, Tsit5())"
   ]
  },
  {
   "cell_type": "code",
   "execution_count": null,
   "metadata": {},
   "outputs": [],
   "source": [
    "p = (1.0,1.0,1.0,10.0,0.001,100.0,N)\n",
    "function fast_gm!(du,u,p,t)\n",
    "  a,α,ubar,β,D1,D2,N = p\n",
    "\n",
    "  @inbounds for j in 2:N-1, i in 2:N-1\n",
    "    du[i,j,1] = D1*(u[i-1,j,1] + u[i+1,j,1] + u[i,j+1,1] + u[i,j-1,1] - 4u[i,j,1]) +\n",
    "              a*u[i,j,1]^2/u[i,j,2] + ubar - α*u[i,j,1]\n",
    "  end\n",
    "\n",
    "  @inbounds for j in 2:N-1, i in 2:N-1\n",
    "    du[i,j,2] = D2*(u[i-1,j,2] + u[i+1,j,2] + u[i,j+1,2] + u[i,j-1,2] - 4u[i,j,2]) +\n",
    "            a*u[i,j,1]^2 - β*u[i,j,2]\n",
    "  end\n",
    "\n",
    "  @inbounds for j in 2:N-1\n",
    "    i = 1\n",
    "    du[1,j,1] = D1*(2u[i+1,j,1] + u[i,j+1,1] + u[i,j-1,1] - 4u[i,j,1]) +\n",
    "            a*u[i,j,1]^2/u[i,j,2] + ubar - α*u[i,j,1]\n",
    "  end\n",
    "  @inbounds for j in 2:N-1\n",
    "    i = 1\n",
    "    du[1,j,2] = D2*(2u[i+1,j,2] + u[i,j+1,2] + u[i,j-1,2] - 4u[i,j,2]) +\n",
    "            a*u[i,j,1]^2 - β*u[i,j,2]\n",
    "  end\n",
    "  @inbounds for j in 2:N-1\n",
    "    i = N\n",
    "    du[end,j,1] = D1*(2u[i-1,j,1] + u[i,j+1,1] + u[i,j-1,1] - 4u[i,j,1]) +\n",
    "           a*u[i,j,1]^2/u[i,j,2] + ubar - α*u[i,j,1]\n",
    "  end\n",
    "  @inbounds for j in 2:N-1\n",
    "    i = N\n",
    "    du[end,j,2] = D2*(2u[i-1,j,2] + u[i,j+1,2] + u[i,j-1,2] - 4u[i,j,2]) +\n",
    "           a*u[i,j,1]^2 - β*u[i,j,2]\n",
    "  end\n",
    "\n",
    "  @inbounds for i in 2:N-1\n",
    "    j = 1\n",
    "    du[i,1,1] = D1*(u[i-1,j,1] + u[i+1,j,1] + 2u[i,j+1,1] - 4u[i,j,1]) +\n",
    "              a*u[i,j,1]^2/u[i,j,2] + ubar - α*u[i,j,1]\n",
    "  end\n",
    "  @inbounds for i in 2:N-1\n",
    "    j = 1\n",
    "    du[i,1,2] = D2*(u[i-1,j,2] + u[i+1,j,2] + 2u[i,j+1,2] - 4u[i,j,2]) +\n",
    "              a*u[i,j,1]^2 - β*u[i,j,2]\n",
    "  end\n",
    "  @inbounds for i in 2:N-1\n",
    "    j = N\n",
    "    du[i,end,1] = D1*(u[i-1,j,1] + u[i+1,j,1] + 2u[i,j-1,1] - 4u[i,j,1]) +\n",
    "             a*u[i,j,1]^2/u[i,j,2] + ubar - α*u[i,j,1]\n",
    "  end\n",
    "  @inbounds for i in 2:N-1\n",
    "    j = N\n",
    "    du[i,end,2] = D2*(u[i-1,j,2] + u[i+1,j,2] + 2u[i,j-1,2] - 4u[i,j,2]) +\n",
    "             a*u[i,j,1]^2 - β*u[i,j,2]\n",
    "  end\n",
    "\n",
    "  @inbounds begin\n",
    "    i = 1; j = 1\n",
    "    du[1,1,1] = D1*(2u[i+1,j,1] + 2u[i,j+1,1] - 4u[i,j,1]) +\n",
    "              a*u[i,j,1]^2/u[i,j,2] + ubar - α*u[i,j,1]\n",
    "    du[1,1,2] = D2*(2u[i+1,j,2] + 2u[i,j+1,2] - 4u[i,j,2]) +\n",
    "              a*u[i,j,1]^2 - β*u[i,j,2]\n",
    "\n",
    "    i = 1; j = N\n",
    "    du[1,N,1] = D1*(2u[i+1,j,1] + 2u[i,j-1,1] - 4u[i,j,1]) +\n",
    "             a*u[i,j,1]^2/u[i,j,2] + ubar - α*u[i,j,1]\n",
    "    du[1,N,2] = D2*(2u[i+1,j,2] + 2u[i,j-1,2] - 4u[i,j,2]) +\n",
    "             a*u[i,j,1]^2 - β*u[i,j,2]\n",
    "\n",
    "    i = N; j = 1\n",
    "    du[N,1,1] = D1*(2u[i-1,j,1] + 2u[i,j+1,1] - 4u[i,j,1]) +\n",
    "             a*u[i,j,1]^2/u[i,j,2] + ubar - α*u[i,j,1]\n",
    "    du[N,1,2] = D2*(2u[i-1,j,2] + 2u[i,j+1,2] - 4u[i,j,2]) +\n",
    "             a*u[i,j,1]^2 - β*u[i,j,2]\n",
    "\n",
    "    i = N; j = N\n",
    "    du[end,end,1] = D1*(2u[i-1,j,1] + 2u[i,j-1,1] - 4u[i,j,1]) +\n",
    "             a*u[i,j,1]^2/u[i,j,2] + ubar - α*u[i,j,1]\n",
    "    du[end,end,2] = D2*(2u[i-1,j,2] + 2u[i,j-1,2] - 4u[i,j,2]) +\n",
    "             a*u[i,j,1]^2 - β*u[i,j,2]\n",
    "   end\n",
    "end"
   ]
  },
  {
   "cell_type": "code",
   "execution_count": null,
   "metadata": {},
   "outputs": [],
   "source": [
    "prob_fast_gm = ODEProblem(fast_gm!,r0,(0.0,0.1),p)"
   ]
  },
  {
   "cell_type": "code",
   "execution_count": null,
   "metadata": {},
   "outputs": [],
   "source": [
    "@benchmark solve(prob_fast_gm, Tsit5())"
   ]
  },
  {
   "cell_type": "code",
   "execution_count": null,
   "metadata": {},
   "outputs": [],
   "source": []
  },
  {
   "cell_type": "code",
   "execution_count": null,
   "metadata": {},
   "outputs": [],
   "source": []
  },
  {
   "cell_type": "code",
   "execution_count": null,
   "metadata": {},
   "outputs": [],
   "source": []
  },
  {
   "cell_type": "code",
   "execution_count": null,
   "metadata": {},
   "outputs": [],
   "source": []
  }
 ],
 "metadata": {
  "@webio": {
   "lastCommId": null,
   "lastKernelId": null
  },
  "kernelspec": {
   "display_name": "Julia 1.3.1",
   "language": "julia",
   "name": "julia-1.3"
  },
  "language_info": {
   "file_extension": ".jl",
   "mimetype": "application/julia",
   "name": "julia",
   "version": "1.3.1"
  }
 },
 "nbformat": 4,
 "nbformat_minor": 2
}
