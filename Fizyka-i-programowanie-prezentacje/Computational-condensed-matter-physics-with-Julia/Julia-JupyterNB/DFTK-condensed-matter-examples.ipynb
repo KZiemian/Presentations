{
 "cells": [
  {
   "cell_type": "markdown",
   "metadata": {},
   "source": [
    "# [Density-functional toolkit (DFTK)](https://github.com/JuliaMolSim/DFTK.jl)\n",
    "\n",
    "Project of\n",
    "[Antoine Levitt](http://antoine.levitt.fr/) and [Michael F. Herbst](https://michael-herbst.com/) from Centre Inria de Paris and Ecole des Ponts ParisTech.\n",
    "\n",
    "From its homepage.\n",
    "*The density-functional toolkit, or short DFTK is a library of Julia routines for experimentation with plane-wave-based density-functional theory (DFT), as implemented in much larger production codes such as Abinit, Quantum Espresso and VASP. The main aim at the moment is to provide a platform to facilitate numerical analysis of algorithms and techniques related to DFT. For this we want to leverage as much of the existing developments in plane-wave DFT and the related ecosystems of Julia, Python or C codes as possible.*\n",
    "\n",
    "\n",
    "It is using `scipy`, `spglib` (interface for programs in C), `matplotlib`, `pymatgen` from Python 3.\n",
    "\n",
    "All examples form DFTK.jl site, you can just click on the link."
   ]
  },
  {
   "cell_type": "markdown",
   "metadata": {},
   "source": [
    "## [DFT calculations in DFTK: Silicon and Graphite](https://github.com/JuliaMolSim/DFTK.jl/blob/master/examples/Silicon_Graphite.ipynb)\n",
    "\n",
    "## Setting up libraries"
   ]
  },
  {
   "cell_type": "code",
   "execution_count": null,
   "metadata": {},
   "outputs": [],
   "source": [
    "# Activate source directory of DFTK\n",
    "import Pkg\n",
    "\n",
    "Pkg.activate(\"..\")\n",
    "Pkg.instantiate()\n",
    "\n",
    "# Pkg.add(\"Plots\")\n",
    "using Plots\n",
    "\n",
    "# Pkg.add(\"DFTK\")\n",
    "using DFTK"
   ]
  },
  {
   "cell_type": "markdown",
   "metadata": {},
   "source": [
    "### Defining paramaters"
   ]
  },
  {
   "cell_type": "code",
   "execution_count": null,
   "metadata": {
    "scrolled": true
   },
   "outputs": [],
   "source": [
    "kgrid = [3, 3, 3]   # k-Point grid\n",
    "Ecut = 15           # Kinetic energy cutoff in Hartree\n",
    "temperature = 0.01  # Smearing temperature in Hartree (for metals)\n",
    "T = Float64;        # Floating point type for computations"
   ]
  },
  {
   "cell_type": "markdown",
   "metadata": {},
   "source": [
    "## Silicon, an Insulator\n",
    "\n",
    "### Setting up lattices and structures"
   ]
  },
  {
   "cell_type": "code",
   "execution_count": null,
   "metadata": {},
   "outputs": [],
   "source": [
    "a = 10.263141334305942  # Silicon lattice constant in Bohr\n",
    "lattice = a / 2 .* [[0 1 1.0]; [1 0 1.0]; [1 1 0.0]]"
   ]
  },
  {
   "cell_type": "code",
   "execution_count": null,
   "metadata": {},
   "outputs": [],
   "source": [
    "Si = ElementPsp(:Si, psp=load_psp(\"hgh/lda/Si-q4\"))"
   ]
  },
  {
   "cell_type": "code",
   "execution_count": null,
   "metadata": {},
   "outputs": [],
   "source": [
    "?ElementPsp"
   ]
  },
  {
   "cell_type": "code",
   "execution_count": null,
   "metadata": {},
   "outputs": [],
   "source": [
    "?Element"
   ]
  },
  {
   "cell_type": "code",
   "execution_count": null,
   "metadata": {},
   "outputs": [],
   "source": [
    "typeof(Si)"
   ]
  },
  {
   "cell_type": "code",
   "execution_count": null,
   "metadata": {},
   "outputs": [],
   "source": [
    "atoms = [Si => [ones(3)/8, -ones(3)/8]]"
   ]
  },
  {
   "cell_type": "code",
   "execution_count": null,
   "metadata": {},
   "outputs": [],
   "source": [
    "n_bands = 6\n",
    "\n",
    "model = model_LDA(Array{T}(lattice), atoms)"
   ]
  },
  {
   "cell_type": "markdown",
   "metadata": {},
   "source": [
    "## Running an Self-Consistent Field (SCF) computation\n",
    "\n",
    "### Discretise the model"
   ]
  },
  {
   "cell_type": "code",
   "execution_count": null,
   "metadata": {},
   "outputs": [],
   "source": [
    "basis = PlaneWaveBasis(model, Ecut, kgrid=kgrid)"
   ]
  },
  {
   "cell_type": "code",
   "execution_count": null,
   "metadata": {},
   "outputs": [],
   "source": [
    "?PlaneWaveBasis"
   ]
  },
  {
   "cell_type": "markdown",
   "metadata": {},
   "source": [
    "### Run self-consistent field calculation"
   ]
  },
  {
   "cell_type": "code",
   "execution_count": null,
   "metadata": {},
   "outputs": [],
   "source": [
    "scfres = self_consistent_field(basis, tol=1e-10)"
   ]
  },
  {
   "cell_type": "code",
   "execution_count": null,
   "metadata": {
    "scrolled": true
   },
   "outputs": [],
   "source": [
    "?self_consistent_field"
   ]
  },
  {
   "cell_type": "code",
   "execution_count": null,
   "metadata": {},
   "outputs": [],
   "source": [
    "display(scfres.energies)"
   ]
  },
  {
   "cell_type": "code",
   "execution_count": null,
   "metadata": {},
   "outputs": [],
   "source": [
    "println(\"\\nkpt    occupation\")\n",
    "for ik in 1:length(basis.kpoints)\n",
    "    println(\"  $ik    $(scfres.occupation[ik])\")\n",
    "end"
   ]
  },
  {
   "cell_type": "markdown",
   "metadata": {},
   "source": [
    "## Post-process SCF results\n",
    "\n",
    "### Compute bandstructure"
   ]
  },
  {
   "cell_type": "code",
   "execution_count": null,
   "metadata": {
    "scrolled": true
   },
   "outputs": [],
   "source": [
    "plot_bandstructure(scfres, n_bands)"
   ]
  },
  {
   "cell_type": "markdown",
   "metadata": {},
   "source": [
    "### Plot of the density versus the norm of the reciprocal lattice points"
   ]
  },
  {
   "cell_type": "code",
   "execution_count": null,
   "metadata": {},
   "outputs": [],
   "source": [
    "Gabs = vec([sum(abs, G) for G in G_vectors(basis)])\n",
    "scatter(Gabs, vec(abs.(scfres.ρ.fourier)), yaxis=:log)"
   ]
  },
  {
   "cell_type": "markdown",
   "metadata": {},
   "source": [
    "### Plot the density of state"
   ]
  },
  {
   "cell_type": "code",
   "execution_count": null,
   "metadata": {},
   "outputs": [],
   "source": [
    "εs = collect(-0.3:0.005:0.5)\n",
    "\n",
    "doses = DOS.(εs, Ref(basis), Ref(scfres.eigenvalues),T=temperature*4,\n",
    "            smearing=DFTK.Smearing.MethfesselPaxton1())"
   ]
  },
  {
   "cell_type": "code",
   "execution_count": null,
   "metadata": {},
   "outputs": [],
   "source": [
    "q = plot(εs, doses, label=\"DOS\")"
   ]
  },
  {
   "cell_type": "code",
   "execution_count": null,
   "metadata": {},
   "outputs": [],
   "source": [
    "vline!(q, [scfres.εF], label=\"Fermi level\")"
   ]
  },
  {
   "cell_type": "markdown",
   "metadata": {},
   "source": [
    "\n",
    "## Build graphite (a Metal)\n",
    "## Note: This is not exactly the minimum-energy structure"
   ]
  },
  {
   "cell_type": "code",
   "execution_count": null,
   "metadata": {},
   "outputs": [],
   "source": [
    "ÅtoBohr = 1.8897261246257702 # Convert Å to bohr\n",
    "a = 1.228ÅtoBohr\n",
    "b = 2.12695839ÅtoBohr\n",
    "c = 7ÅtoBohr\n",
    "\n",
    "lattice = [[a a 0]; [-b b 0]; [0 0 c]]\n",
    "C = ElementPsp(:C, psp=load_psp(\"hgh/lda/C-q4\"))\n",
    "\n",
    "atoms = [C => [[0, 0, 1/4], [0, 0, 3/4],\n",
    "                [1/3, 2/3, 1/4], [2/3, 1/3, 3/4]], ]\n",
    "\n",
    "n_bands = 15\n",
    "\n",
    "model = model_DFT(Array{T}(lattice), atoms, :lda_xc_teter93;\n",
    "                  temperature=temperature, smearing=Smearing.MethfesselPaxton2())"
   ]
  },
  {
   "cell_type": "markdown",
   "metadata": {},
   "source": [
    "## We repeat code used previously for Silicon insulator"
   ]
  },
  {
   "cell_type": "code",
   "execution_count": null,
   "metadata": {},
   "outputs": [],
   "source": [
    "# Running an SCF computation\n",
    "# Discretise the model\n",
    "\n",
    "basis = PlaneWaveBasis(model, Ecut, kgrid=kgrid)\n",
    "\n",
    "\n",
    "\n",
    "# Run self-consistent field calculation\n",
    "scfres = self_consistent_field(basis, tol=1e-10)\n",
    "\n",
    "display(scfres.energies)\n",
    "println(\"\\nkpt    occupation\")\n",
    "for ik in 1:length(basis.kpoints)\n",
    "    println(\"  $ik    $(scfres.occupation[ik])\")\n",
    "end\n",
    "\n",
    "\n",
    "\n",
    "# Post-process SCF results\n",
    "# Compute bandstructure\n",
    "plot_bandstructure(scfres, n_bands)"
   ]
  },
  {
   "cell_type": "code",
   "execution_count": null,
   "metadata": {},
   "outputs": [],
   "source": [
    "# Plot of the density versus the norm of the reciprocal lattice points\n",
    "Gabs = vec([sum(abs, G) for G in G_vectors(basis)])\n",
    "scatter(Gabs, vec(abs.(scfres.ρ.fourier)), yaxis=:log)"
   ]
  },
  {
   "cell_type": "code",
   "execution_count": null,
   "metadata": {},
   "outputs": [],
   "source": [
    "# Plot the density of state\n",
    "εs = collect(-0.3:0.005:0.5)\n",
    "doses = DOS.(εs, Ref(basis), Ref(scfres.eigenvalues), T=temperature*4,\n",
    "             smearing=DFTK.Smearing.MethfesselPaxton1())\n",
    "q = plot(εs, doses, label=\"DOS\")\n",
    "vline!(q, [scfres.εF], label=\"Fermi level\")"
   ]
  },
  {
   "cell_type": "markdown",
   "metadata": {},
   "source": [
    "# [Graphene](https://github.com/JuliaMolSim/DFTK.jl/blob/master/examples/graphene.jl)"
   ]
  },
  {
   "cell_type": "code",
   "execution_count": null,
   "metadata": {},
   "outputs": [],
   "source": [
    "kgrid = [4, 4, 1]\n",
    "Tsmear = 0.0009500431544769484\n",
    "Ecut = 15\n",
    "\n",
    "lattice = [4.659533614391621 -2.3297668071958104 0.0;\n",
    "           0.0 4.035274479829987 0.0;\n",
    "           0.0 0.0 15.117809010356462]\n",
    "\n",
    "C = ElementPsp(:C, psp=load_psp(\"hgh/pbe/c-q4\"))\n",
    "atoms = [C => [[0.0, 0.0, 0.0], [0.33333333333, 0.66666666667, 0.0]]]\n",
    "\n",
    "model = model_DFT(lattice, atoms, [:gga_x_pbe, :gga_c_pbe];\n",
    "                  temperature=Tsmear, smearing=Smearing.Gaussian())"
   ]
  },
  {
   "cell_type": "code",
   "execution_count": null,
   "metadata": {},
   "outputs": [],
   "source": [
    "basis = PlaneWaveBasis(model, Ecut, kgrid=kgrid)"
   ]
  },
  {
   "cell_type": "code",
   "execution_count": null,
   "metadata": {},
   "outputs": [],
   "source": [
    "# Run SCF\n",
    "n_bands = 6\n",
    "scfres = self_consistent_field(basis; n_bands=n_bands)\n",
    "\n",
    "# Print obtained energies\n",
    "println()\n",
    "display(scfres.energies)"
   ]
  },
  {
   "cell_type": "markdown",
   "metadata": {},
   "source": [
    "## [Gross-Pitaevskii 1D equation](https://github.com/JuliaMolSim/DFTK.jl/blob/master/examples/gross_pitaevskii.jl)\n",
    "\n",
    "\\begin{equation}\n",
    "    -\\frac{ 1 }{ 2 } \\Delta \\psi( x ) + V( x ) \\psi( x )\n",
    "    + \\alpha | \\psi( x ) | \\psi( x )\n",
    "    = \\lambda \\psi( x ),\n",
    "    \\quad\n",
    "    || \\psi ||_{ L^{ 2 } } = 1\n",
    "\\end{equation}\n",
    "\n",
    "We emulate this with custom external potential $V( x )$, and a custom $xc$ term."
   ]
  },
  {
   "cell_type": "code",
   "execution_count": null,
   "metadata": {},
   "outputs": [],
   "source": [
    "using DFTK\n",
    "using LinearAlgebra\n",
    "using Plots"
   ]
  },
  {
   "cell_type": "code",
   "execution_count": null,
   "metadata": {},
   "outputs": [],
   "source": [
    "Ecut = 4_000\n",
    "const α = 2"
   ]
  },
  {
   "cell_type": "markdown",
   "metadata": {},
   "source": [
    "### Nonlinearity: energy $C ∫ \\rho^{ \\alpha }$"
   ]
  },
  {
   "cell_type": "code",
   "execution_count": null,
   "metadata": {},
   "outputs": [],
   "source": [
    "C = 1.0\n",
    "\n",
    "# Unit cell. Having two lattice vectors as zero means a 1D system\n",
    "a = 10\n",
    "lattice = a .* [[1 0 0.0]; [0 0 0]; [0 0 0]]"
   ]
  },
  {
   "cell_type": "markdown",
   "metadata": {},
   "source": [
    "### Potential $f( x ) = ( x - a/2 )^{ 2 }$"
   ]
  },
  {
   "cell_type": "code",
   "execution_count": null,
   "metadata": {},
   "outputs": [],
   "source": [
    "f(x) = (x - a/2)^2"
   ]
  },
  {
   "cell_type": "markdown",
   "metadata": {},
   "source": [
    "### Increse number of electrons for fun"
   ]
  },
  {
   "cell_type": "code",
   "execution_count": null,
   "metadata": {},
   "outputs": [],
   "source": [
    "n_electrons = 1"
   ]
  },
  {
   "cell_type": "markdown",
   "metadata": {},
   "source": [
    "### We add the needed terms"
   ]
  },
  {
   "cell_type": "code",
   "execution_count": null,
   "metadata": {},
   "outputs": [],
   "source": [
    "terms = [Kinetic(),\n",
    "         ExternalFromReal(X -> f(X[1])),\n",
    "         PowerNonlinearity(C, α),\n",
    "]"
   ]
  },
  {
   "cell_type": "code",
   "execution_count": null,
   "metadata": {},
   "outputs": [],
   "source": [
    "model = Model(lattice; n_electrons=n_electrons,terms=terms,\n",
    "              spin_polarisation= :spinless) # \"spinless fermions\""
   ]
  },
  {
   "cell_type": "code",
   "execution_count": null,
   "metadata": {},
   "outputs": [],
   "source": [
    "basis = PlaneWaveBasis(model, Ecut)"
   ]
  },
  {
   "cell_type": "code",
   "execution_count": null,
   "metadata": {},
   "outputs": [],
   "source": [
    "scfres = direct_minimization(basis, x_tol=1e-8, f_tol=-1, g_tol=-1)"
   ]
  },
  {
   "cell_type": "code",
   "execution_count": null,
   "metadata": {},
   "outputs": [],
   "source": [
    "println()\n",
    "display(scfres.energies)"
   ]
  },
  {
   "cell_type": "code",
   "execution_count": null,
   "metadata": {},
   "outputs": [],
   "source": [
    "x = a * range(0, 1, length=basis.fft_size[1]+1)[1:end-1]"
   ]
  },
  {
   "cell_type": "markdown",
   "metadata": {},
   "source": [
    "###   Converged density"
   ]
  },
  {
   "cell_type": "code",
   "execution_count": null,
   "metadata": {},
   "outputs": [],
   "source": [
    "ρ = real(scfres.ρ.real)[:, 1, 1]"
   ]
  },
  {
   "cell_type": "markdown",
   "metadata": {},
   "source": [
    "### First kpoint, all $G$ components , first eigenvector"
   ]
  },
  {
   "cell_type": "code",
   "execution_count": null,
   "metadata": {},
   "outputs": [],
   "source": [
    "ψ_fourier = scfres.ψ[1][:, 1]"
   ]
  },
  {
   "cell_type": "code",
   "execution_count": null,
   "metadata": {},
   "outputs": [],
   "source": [
    "ψ = G_to_r(basis, basis.kpoints[1], ψ_fourier)[:, 1, 1]  # IFFT back to real space"
   ]
  },
  {
   "cell_type": "code",
   "execution_count": null,
   "metadata": {},
   "outputs": [],
   "source": [
    "@assert sum(abs2.(ψ)) * (x[2] - x[1]) ≈ 1.0"
   ]
  },
  {
   "cell_type": "markdown",
   "metadata": {},
   "source": [
    "### Phase fix"
   ]
  },
  {
   "cell_type": "code",
   "execution_count": null,
   "metadata": {},
   "outputs": [],
   "source": [
    "ψ /= (ψ[div(end, 2)] / abs(ψ[div(end, 2)]))"
   ]
  },
  {
   "cell_type": "markdown",
   "metadata": {},
   "source": [
    "$\\psi( x )$ solves\n",
    "$-\\frac{ 1 }{ 2 } \\Delta \\psi( x ) + V_{ \\textrm{ext} } \\psi( x ) + C \\alpha \\rho^{ \\alpha - 1 } \\psi( x ) = \\alpha \\psi( x )$"
   ]
  },
  {
   "cell_type": "code",
   "execution_count": null,
   "metadata": {},
   "outputs": [],
   "source": [
    "N = length(x)\n",
    "A = Array(Tridiagonal(-ones(N - 1), 2ones(N), -ones(N - 1)))"
   ]
  },
  {
   "cell_type": "code",
   "execution_count": null,
   "metadata": {},
   "outputs": [],
   "source": [
    "A[1, end] = A[end, 1] = -1\n",
    "K = A / ((x[2] - x[1])^2) / 2"
   ]
  },
  {
   "cell_type": "code",
   "execution_count": null,
   "metadata": {},
   "outputs": [],
   "source": [
    "V = Diagonal(f.(x) + C .* α .* (ρ.^(α - 1)))\n",
    "H = K + V"
   ]
  },
  {
   "cell_type": "code",
   "execution_count": null,
   "metadata": {},
   "outputs": [],
   "source": [
    "p = plot(x, real.(ψ), label=\"ψreal\")\n",
    "plot!(p, x, imag.(ψ), label=\"ψimag\")\n",
    "plot!(p, x, ρ, label=\"ρ\")\n",
    "plot!(p, x, abs.(H*ψ - dot(ψ, H*ψ)/dot(ψ, ψ)*ψ), label=\"residual\")\n",
    "gui(p)"
   ]
  },
  {
   "cell_type": "markdown",
   "metadata": {},
   "source": [
    "# [Magnesium PBE](https://github.com/JuliaMolSim/DFTK.jl/blob/master/examples/magnesium_pbe.jl)"
   ]
  },
  {
   "cell_type": "code",
   "execution_count": null,
   "metadata": {},
   "outputs": [],
   "source": [
    "using DFTK\n",
    "using Plots"
   ]
  },
  {
   "cell_type": "markdown",
   "metadata": {},
   "source": [
    "### Calculation parameters"
   ]
  },
  {
   "cell_type": "code",
   "execution_count": null,
   "metadata": {},
   "outputs": [],
   "source": [
    "kgrid = [4, 4, 4]      # k-Point grid\n",
    "Ecut = 15              # kinetic energy cutoff in Hartree\n",
    "supercell = [1, 1, 1]  # Lattice supercell\n",
    "n_bands = 8            # Number of bands for SCF and plotting\n",
    "Tsmear = 0.01          # Smearing temperature in Hartree"
   ]
  },
  {
   "cell_type": "markdown",
   "metadata": {},
   "source": [
    "### Setup magnesium lattice (constants in Bohr)"
   ]
  },
  {
   "cell_type": "code",
   "execution_count": null,
   "metadata": {},
   "outputs": [],
   "source": [
    "a = 3.0179389193174084\n",
    "b = 5.227223542397263\n",
    "c = 9.773621942589742\n",
    "\n",
    "lattice = [[-a -a 0]; [-b b 0]; [0 0 -c]]"
   ]
  },
  {
   "cell_type": "code",
   "execution_count": null,
   "metadata": {},
   "outputs": [],
   "source": [
    "Mg = ElementPsp(:Mg, psp=load_psp(\"hgh/pbe/Mg-q2\"))"
   ]
  },
  {
   "cell_type": "code",
   "execution_count": null,
   "metadata": {},
   "outputs": [],
   "source": [
    "atoms = [Mg => [[2/3, 1/3, 1/4], [1/3, 2/3, 3/4]]]"
   ]
  },
  {
   "cell_type": "markdown",
   "metadata": {},
   "source": [
    "### Make a supercell if desired"
   ]
  },
  {
   "cell_type": "code",
   "execution_count": null,
   "metadata": {},
   "outputs": [],
   "source": [
    "pystruct = pymatgen_structure(lattice, atoms)\n",
    "pystruct.make_supercell(supercell)\n",
    "lattice = load_lattice(pystruct)\n",
    "atoms = [Mg => [s.frac_coords for s in pystruct.sites]]"
   ]
  },
  {
   "cell_type": "markdown",
   "metadata": {},
   "source": [
    "### Setup PBE model with Methfessel-Paxton smearing and its discretisation"
   ]
  },
  {
   "cell_type": "code",
   "execution_count": null,
   "metadata": {},
   "outputs": [],
   "source": [
    "model = model_DFT(lattice, atoms, [:gga_x_pbe, :gga_c_pbe];\n",
    "                  temperature=Tsmear,\n",
    "                  smearing=DFTK.Smearing.MethfesselPaxton1())"
   ]
  },
  {
   "cell_type": "code",
   "execution_count": null,
   "metadata": {},
   "outputs": [],
   "source": [
    "basis = PlaneWaveBasis(model, Ecut, kgrid=kgrid)"
   ]
  },
  {
   "cell_type": "markdown",
   "metadata": {},
   "source": [
    "### Run SCF"
   ]
  },
  {
   "cell_type": "code",
   "execution_count": null,
   "metadata": {},
   "outputs": [],
   "source": [
    "scfres = self_consistent_field(basis, n_bands=n_bands)"
   ]
  },
  {
   "cell_type": "markdown",
   "metadata": {},
   "source": [
    "### Print obtained energies and plot bands"
   ]
  },
  {
   "cell_type": "code",
   "execution_count": null,
   "metadata": {},
   "outputs": [],
   "source": [
    "println()\n",
    "display(scfres.energies)\n",
    "p = plot_bandstructure(scfres, n_bands)"
   ]
  },
  {
   "cell_type": "markdown",
   "metadata": {},
   "source": [
    "### Plot DOS"
   ]
  },
  {
   "cell_type": "code",
   "execution_count": null,
   "metadata": {},
   "outputs": [],
   "source": [
    "εs = range(minimum(minimum(scfres.eigenvalues)) - 1,\n",
    "                      maximum(maximum(scfres.eigenvalues)) + 1, length=1000)\n",
    "Ds = DOS.(εs, Ref(basis), Ref(scfres.eigenvalues), T=Tsmear*4,\n",
    "          smearing=DFTK.Smearing.MethfesselPaxton1())"
   ]
  },
  {
   "cell_type": "code",
   "execution_count": null,
   "metadata": {},
   "outputs": [],
   "source": [
    "q = plot(εs, Ds, label=\"DOS\")\n",
    "    vline!(q, [scfres.εF], label=\"εF\")"
   ]
  },
  {
   "cell_type": "code",
   "execution_count": null,
   "metadata": {},
   "outputs": [],
   "source": [
    "gui(plot(p, q))"
   ]
  }
 ],
 "metadata": {
  "@webio": {
   "lastCommId": null,
   "lastKernelId": null
  },
  "kernelspec": {
   "display_name": "Julia 1.3.1",
   "language": "julia",
   "name": "julia-1.3"
  },
  "language_info": {
   "file_extension": ".jl",
   "mimetype": "application/julia",
   "name": "julia",
   "version": "1.3.1"
  }
 },
 "nbformat": 4,
 "nbformat_minor": 2
}
