{
 "cells": [
  {
   "cell_type": "markdown",
   "metadata": {},
   "source": [
    "### Unitful, see also JuliaAstro: [UnitfulAstro.jl](https://github.com/JuliaAstro/UnitfulAstro.jl)"
   ]
  },
  {
   "cell_type": "code",
   "execution_count": null,
   "metadata": {
    "scrolled": true
   },
   "outputs": [],
   "source": [
    "# import Pkg; Pkg.add([\"Unitful\", \"UnitfulAstro\"])\n",
    "using Unitful # , UnitfulAstro"
   ]
  },
  {
   "cell_type": "code",
   "execution_count": null,
   "metadata": {
    "scrolled": true
   },
   "outputs": [],
   "source": [
    "u\"m\""
   ]
  },
  {
   "cell_type": "code",
   "execution_count": null,
   "metadata": {},
   "outputs": [],
   "source": [
    "typeof(u\"m\")"
   ]
  },
  {
   "cell_type": "code",
   "execution_count": null,
   "metadata": {
    "scrolled": true
   },
   "outputs": [],
   "source": [
    "1u\"m\""
   ]
  },
  {
   "cell_type": "code",
   "execution_count": null,
   "metadata": {},
   "outputs": [],
   "source": [
    "1 * u\"m\""
   ]
  },
  {
   "cell_type": "code",
   "execution_count": null,
   "metadata": {
    "scrolled": true
   },
   "outputs": [],
   "source": [
    "u\"s\""
   ]
  },
  {
   "cell_type": "code",
   "execution_count": null,
   "metadata": {},
   "outputs": [],
   "source": [
    "typeof(u\"s\")"
   ]
  },
  {
   "cell_type": "code",
   "execution_count": null,
   "metadata": {
    "scrolled": false
   },
   "outputs": [],
   "source": [
    "u\"N\""
   ]
  },
  {
   "cell_type": "code",
   "execution_count": null,
   "metadata": {},
   "outputs": [],
   "source": [
    "typeof(u\"N\")"
   ]
  },
  {
   "cell_type": "code",
   "execution_count": null,
   "metadata": {},
   "outputs": [],
   "source": [
    "u\"N\" * u\"m\""
   ]
  },
  {
   "cell_type": "code",
   "execution_count": null,
   "metadata": {},
   "outputs": [],
   "source": [
    "typeof(u\"m\" * u\"N\")"
   ]
  },
  {
   "cell_type": "markdown",
   "metadata": {},
   "source": [
    "### Unit convert"
   ]
  },
  {
   "cell_type": "code",
   "execution_count": null,
   "metadata": {},
   "outputs": [],
   "source": [
    "?uconvert"
   ]
  },
  {
   "cell_type": "code",
   "execution_count": null,
   "metadata": {},
   "outputs": [],
   "source": [
    "uconvert(u\"J\", u\"m\" * u\"N\")"
   ]
  },
  {
   "cell_type": "code",
   "execution_count": null,
   "metadata": {},
   "outputs": [],
   "source": [
    "1 * u\"N\" * u\"m\""
   ]
  },
  {
   "cell_type": "code",
   "execution_count": null,
   "metadata": {},
   "outputs": [],
   "source": [
    "typeof(1 * u\"N\" * u\"m\")"
   ]
  },
  {
   "cell_type": "code",
   "execution_count": null,
   "metadata": {
    "scrolled": true
   },
   "outputs": [],
   "source": [
    "uconvert(u\"J\", 1 * u\"N\" * u\"m\")"
   ]
  },
  {
   "cell_type": "code",
   "execution_count": null,
   "metadata": {},
   "outputs": [],
   "source": [
    "uconvert(u\"J\", 1.0 * u\"N\" * u\"m\")"
   ]
  },
  {
   "cell_type": "code",
   "execution_count": null,
   "metadata": {},
   "outputs": [],
   "source": [
    "u\"erg\""
   ]
  },
  {
   "cell_type": "code",
   "execution_count": null,
   "metadata": {
    "scrolled": true
   },
   "outputs": [],
   "source": [
    "typeof(u\"erg\")"
   ]
  },
  {
   "cell_type": "code",
   "execution_count": null,
   "metadata": {
    "scrolled": true
   },
   "outputs": [],
   "source": [
    "u\"Msun\""
   ]
  },
  {
   "cell_type": "code",
   "execution_count": null,
   "metadata": {},
   "outputs": [],
   "source": [
    "u\"foe\""
   ]
  },
  {
   "cell_type": "code",
   "execution_count": null,
   "metadata": {
    "scrolled": false
   },
   "outputs": [],
   "source": [
    "u\"Rjup\""
   ]
  },
  {
   "cell_type": "code",
   "execution_count": null,
   "metadata": {},
   "outputs": [],
   "source": [
    "u\"Rjup_e\""
   ]
  },
  {
   "cell_type": "code",
   "execution_count": null,
   "metadata": {},
   "outputs": [],
   "source": [
    "UnitfulAstro.Rjup_e"
   ]
  },
  {
   "cell_type": "code",
   "execution_count": null,
   "metadata": {},
   "outputs": [],
   "source": [
    "uconvert(u\"m\", 1 * UnitfulAstro.Rju_e)"
   ]
  },
  {
   "cell_type": "markdown",
   "metadata": {},
   "source": [
    "## [TikzGraphs](https://nbviewer.jupyter.org/github/JuliaTeX/TikzGraphs.jl/blob/master/doc/TikzGraphs.ipynb)"
   ]
  },
  {
   "cell_type": "code",
   "execution_count": null,
   "metadata": {},
   "outputs": [],
   "source": [
    "import Pkg; Pkg.add(\"TikzPictures\"); Pkg.add(\"TikzGraphs\")\n",
    "import Pkg; Pkg.add(\"LightGraphs\")\n",
    "\n",
    "using TikzGraphs\n",
    "using LightGraphs\n",
    "using TikzPictures"
   ]
  },
  {
   "cell_type": "code",
   "execution_count": null,
   "metadata": {},
   "outputs": [],
   "source": [
    "g = DiGraph(4)\n",
    "add_edge!(g, 1, 2)\n",
    "add_edge!(g, 2, 3)\n",
    "TikzGraphs.plot(g)"
   ]
  },
  {
   "cell_type": "code",
   "execution_count": null,
   "metadata": {},
   "outputs": [],
   "source": [
    "add_edge!(g, 3, 4)\n",
    "add_edge!(g, 1, 4)\n",
    "TikzGraphs.plot(g)"
   ]
  },
  {
   "cell_type": "code",
   "execution_count": null,
   "metadata": {},
   "outputs": [],
   "source": [
    "t = TikzGraphs.plot(g)"
   ]
  },
  {
   "cell_type": "code",
   "execution_count": null,
   "metadata": {},
   "outputs": [],
   "source": [
    "TikzPictures.save(PDF(\"graph\"), t)\n",
    "TikzPictures.save(SVG(\"graph\"), t)\n",
    "TikzPictures.save(TEX(\"graph\"), t)"
   ]
  },
  {
   "cell_type": "code",
   "execution_count": null,
   "metadata": {},
   "outputs": [],
   "source": []
  },
  {
   "cell_type": "code",
   "execution_count": null,
   "metadata": {},
   "outputs": [],
   "source": []
  },
  {
   "cell_type": "code",
   "execution_count": null,
   "metadata": {},
   "outputs": [],
   "source": []
  },
  {
   "cell_type": "markdown",
   "metadata": {},
   "source": [
    "## Bad code is slow, good code is, mostly, fast "
   ]
  },
  {
   "cell_type": "markdown",
   "metadata": {},
   "source": [
    "This example is basing to large extent on\n",
    "[*Julia is fast*](https://github.com/JuliaComputing/JuliaBoxTutorials/blob/master/introductory-tutorials/intro-to-julia/09.%20Julia%20is%20fast.ipynb) at JuliaComputing GitHub account. There are based on [lecture](https://github.com/mitmath/18S096/blob/master/lectures/lecture1/Boxes-and-registers.ipynb) by Steven G. Johnson form MIT. He is creator of Fastest Fourier Transform in the Werst (FFTW).\n",
    "\n",
    "We test speed of Julia using simple case of function summing elements of vector $V$ with $N = 10^{ 7 }$ random Floats64 from $[ 0, 1 )$.\n",
    "\\begin{equation}\n",
    "    \\textrm{sum}(V) = \\sum_{ i = 1 }^{ N } V_{ i }\n",
    "\\end{equation}"
   ]
  },
  {
   "cell_type": "code",
   "execution_count": null,
   "metadata": {},
   "outputs": [],
   "source": [
    "v = rand(10^7)\n",
    "\n",
    "function sum_bad(V)\n",
    "    s = zero(eltype(v))\n",
    "    for v in V\n",
    "        s += v\n",
    "    end\n",
    "    s\n",
    "end\n",
    "\n",
    "function sum_good(V)\n",
    "    s = zero(eltype(V))\n",
    "    for v in V\n",
    "        s += v\n",
    "    end\n",
    "    s\n",
    "end"
   ]
  },
  {
   "cell_type": "code",
   "execution_count": null,
   "metadata": {},
   "outputs": [],
   "source": [
    "sum_bad_bench = @benchmark sum_bad($v)\n",
    "sum_good_bench = @benchmark sum_good($v)\n",
    "\n",
    "t_bad = sum_bad_bench.times / 1e6\n",
    "t_good = sum_good_bench.times / 1e6\n",
    "\n",
    "bad_dict = Dict(\"Minimum time\" => minimum(t_bad))\n",
    "bad_dict[\"Mean time\"] = mean(t_bad)\n",
    "bad_dict[\"Maximum time\"] = maximum(t_bad)\n",
    "\n",
    "good_dict = Dict(\"Minimum time\" => minimum(t_good))\n",
    "good_dict[\"Mean time\"] = mean(t_good)\n",
    "good_dict[\"Maximum time\"] = maximum(t_bad)"
   ]
  },
  {
   "cell_type": "code",
   "execution_count": null,
   "metadata": {
    "scrolled": true
   },
   "outputs": [],
   "source": [
    "t₀ = 0.0\n",
    "t₁ = bad_dict[\"Maximum time\"] + 50\n",
    "\n",
    "\n",
    "histogram(t_good, bins=4,\n",
    "                 title=\"Good Julia vs bad Julia\",\n",
    "                 xlim=(t₀, t₁),\n",
    "                 ylim=(-5, 100),\n",
    "                 xlabel=\"miliseconds\", ylabel=\"count\", label=\"Good code\")\n",
    "\n",
    "histogram!(t_bad, bins=4,\n",
    "                   label=\"Bad code\")"
   ]
  },
  {
   "cell_type": "code",
   "execution_count": null,
   "metadata": {},
   "outputs": [],
   "source": [
    "println(\"Results for sum_bad in miliseconds [ms]\")\n",
    "for (key, value) in sort(collect(bad_dict), by=last)\n",
    "    println(rpad(key, 26, \".\"), lpad(round(value; digits=5), 6, \".\"))\n",
    "end\n",
    "\n",
    "println(\"\\n\\n\\nResults for sum_good in miliseconds [ms]\")\n",
    "for (key, value) in sort(collect(good_dict), by=last)\n",
    "    println(rpad(key, 26, \".\"), lpad(round(value; digits=5), 6, \".\"))\n",
    "end"
   ]
  },
  {
   "cell_type": "code",
   "execution_count": null,
   "metadata": {
    "scrolled": true
   },
   "outputs": [],
   "source": [
    "# import Pkg; Pkg.add(\"PyCall\")\n",
    "using PyCall"
   ]
  },
  {
   "cell_type": "code",
   "execution_count": null,
   "metadata": {},
   "outputs": [],
   "source": [
    "pysum = pybuiltin(\"sum\")\n",
    "\n",
    "pysum_bench = @benchmark pysum($v)\n",
    "\n",
    "t_pysum = pysum_bench.times / 1e6"
   ]
  },
  {
   "cell_type": "code",
   "execution_count": null,
   "metadata": {},
   "outputs": [],
   "source": [
    "py\"\"\"\n",
    "def py_sum(V):\n",
    "    s = 0.0\n",
    "    \n",
    "    for v in V:\n",
    "        s += v\n",
    "\n",
    "    return s\n",
    "\"\"\"\n",
    "\n",
    "sum_py = py\"py_sum\"\n",
    "\n",
    "py_hand_bench = @benchmark $sum_py($v)\n",
    "\n",
    "t_py_hand = py_hand_bench.times / 1e6"
   ]
  },
  {
   "cell_type": "code",
   "execution_count": null,
   "metadata": {
    "scrolled": true
   },
   "outputs": [],
   "source": [
    "t₀ = 0.0\n",
    "t₁ = maximum(t_py_hand) + 100\n",
    "\n",
    "histogram(t_good, bins=4,\n",
    "                  title=\"Good Julia vs bad Julia vs Python build-in vs Python by hand\",\n",
    "                  xlim=(t₀, t₁),\n",
    "                  ylim=(-5,100),\n",
    "                  xlabel=\"miliseconds\", ylabel=\"count\", label=\"Good Julia\")\n",
    "\n",
    "histogram!(t_bad, bins=4,\n",
    "                  label=\"Julia bad\")\n",
    "\n",
    "histogram!(t_pysum, bins=1,\n",
    "                    label=\"Python build-in\")\n",
    "\n",
    "histogram!(t_py_hand, bins=1,\n",
    "                      label=\"Python by hand\")"
   ]
  }
 ],
 "metadata": {
  "@webio": {
   "lastCommId": null,
   "lastKernelId": null
  },
  "kernelspec": {
   "display_name": "Julia 1.3.1",
   "language": "julia",
   "name": "julia-1.3"
  },
  "language_info": {
   "file_extension": ".jl",
   "mimetype": "application/julia",
   "name": "julia",
   "version": "1.3.1"
  }
 },
 "nbformat": 4,
 "nbformat_minor": 2
}
