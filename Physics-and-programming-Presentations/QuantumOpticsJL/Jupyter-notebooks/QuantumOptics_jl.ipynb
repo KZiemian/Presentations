{
 "cells": [
  {
   "cell_type": "markdown",
   "metadata": {},
   "source": [
    "# QuantumOptics.jl\n",
    "[QuantumOptics.jl](https://qojulia.org/). A Julia Framework for Open Quantum Dynamics."
   ]
  },
  {
   "cell_type": "markdown",
   "metadata": {},
   "source": [
    "Project created by [Helmut Ritsch's CQED group](https://www.uibk.ac.at/th-physik/cqed/) (Cavity Quantum Electrodynamics) at the Institute for Theoretical Physics of the University of Innsbruck. Leaded by [Sebastian Krämer](https://github.com/bastikr)."
   ]
  },
  {
   "cell_type": "markdown",
   "metadata": {},
   "source": [
    "Inspired by [Quantum Optics Toolbox](https://qo.phy.auckland.ac.nz/toolbox/) for MATLAB and it succesor [Quantum Toolbox in Python](http://qutip.org/), form now QuTiP. Written in Julia, new open source languge designed for scientific computing."
   ]
  },
  {
   "cell_type": "code",
   "execution_count": null,
   "metadata": {},
   "outputs": [],
   "source": [
    "using QuantumOptics, PyPlot"
   ]
  },
  {
   "cell_type": "markdown",
   "metadata": {},
   "source": [
    "# 1. Julia overlook"
   ]
  },
  {
   "cell_type": "markdown",
   "metadata": {},
   "source": [
    "## 1.1 Linear algebra"
   ]
  },
  {
   "cell_type": "markdown",
   "metadata": {},
   "source": [
    "## Close to $+\\infty$ starting time for everything. It is Julia tradition"
   ]
  },
  {
   "cell_type": "code",
   "execution_count": null,
   "metadata": {},
   "outputs": [],
   "source": [
    "σ₁ = [0 1;\n",
    "      1 0];\n",
    "σ₂ = [0 -im;\n",
    "      im 0];\n",
    "σ₃ = [1  0;\n",
    "      0 -1]"
   ]
  },
  {
   "cell_type": "code",
   "execution_count": null,
   "metadata": {},
   "outputs": [],
   "source": [
    "σ₁ * σ₂"
   ]
  },
  {
   "cell_type": "code",
   "execution_count": null,
   "metadata": {},
   "outputs": [],
   "source": [
    "σ₁^2"
   ]
  },
  {
   "cell_type": "code",
   "execution_count": null,
   "metadata": {},
   "outputs": [],
   "source": []
  },
  {
   "cell_type": "code",
   "execution_count": null,
   "metadata": {
    "scrolled": true
   },
   "outputs": [],
   "source": [
    "n = 1_000"
   ]
  },
  {
   "cell_type": "code",
   "execution_count": null,
   "metadata": {
    "scrolled": true
   },
   "outputs": [],
   "source": [
    "1 / 2"
   ]
  },
  {
   "cell_type": "code",
   "execution_count": null,
   "metadata": {
    "scrolled": true
   },
   "outputs": [],
   "source": [
    "1 // 2"
   ]
  },
  {
   "cell_type": "code",
   "execution_count": null,
   "metadata": {},
   "outputs": [],
   "source": [
    "1//2 + 1//4"
   ]
  },
  {
   "cell_type": "markdown",
   "metadata": {},
   "source": [
    "## Unfortunetly\n",
    "Unicode limits Julia (C#, Rust, etc.) abilitis to use super- and subscripts limiting it to 30 concret case. It should be at least 2 $\\times$ bigger. By there is a hope, that Unicode will be updated, look [*Unicode Proposal to Encode Subscripts/Superscripts for Mathematical Programming*](https://github.com/stevengj/subsuper-proposal)."
   ]
  },
  {
   "cell_type": "code",
   "execution_count": null,
   "metadata": {},
   "outputs": [],
   "source": [
    "v₁ = [1 2 0]\n",
    "v₂ = [0 -2 3]"
   ]
  },
  {
   "cell_type": "code",
   "execution_count": null,
   "metadata": {},
   "outputs": [],
   "source": [
    "v₁ + v₂"
   ]
  },
  {
   "cell_type": "markdown",
   "metadata": {},
   "source": [
    "### Proper vector"
   ]
  },
  {
   "cell_type": "code",
   "execution_count": null,
   "metadata": {},
   "outputs": [],
   "source": [
    "v₂ = [0, 1, 0]  # Proper vector"
   ]
  },
  {
   "cell_type": "code",
   "execution_count": null,
   "metadata": {},
   "outputs": [],
   "source": [
    "v₁ * v₂"
   ]
  },
  {
   "cell_type": "code",
   "execution_count": null,
   "metadata": {},
   "outputs": [],
   "source": [
    "v₁'"
   ]
  },
  {
   "cell_type": "code",
   "execution_count": null,
   "metadata": {},
   "outputs": [],
   "source": [
    "v₂'v₂"
   ]
  },
  {
   "cell_type": "code",
   "execution_count": null,
   "metadata": {},
   "outputs": [],
   "source": [
    "v₁'v₁"
   ]
  },
  {
   "cell_type": "code",
   "execution_count": null,
   "metadata": {},
   "outputs": [],
   "source": [
    "using LinearAlgebra"
   ]
  },
  {
   "cell_type": "code",
   "execution_count": null,
   "metadata": {},
   "outputs": [],
   "source": [
    "v₁ ⋅ v₁"
   ]
  },
  {
   "cell_type": "markdown",
   "metadata": {},
   "source": [
    "$v_{ 2 } \\times v_{ 2 }$"
   ]
  },
  {
   "cell_type": "code",
   "execution_count": null,
   "metadata": {},
   "outputs": [],
   "source": []
  },
  {
   "cell_type": "code",
   "execution_count": null,
   "metadata": {},
   "outputs": [],
   "source": [
    "?×"
   ]
  },
  {
   "cell_type": "code",
   "execution_count": null,
   "metadata": {},
   "outputs": [],
   "source": [
    "A = [0 1;\n",
    "    1 0]"
   ]
  },
  {
   "cell_type": "code",
   "execution_count": null,
   "metadata": {},
   "outputs": [],
   "source": [
    "typeof(A)"
   ]
  },
  {
   "cell_type": "code",
   "execution_count": null,
   "metadata": {},
   "outputs": [],
   "source": [
    "issymmetric(A)"
   ]
  },
  {
   "cell_type": "code",
   "execution_count": null,
   "metadata": {},
   "outputs": [],
   "source": [
    "eigen(A)"
   ]
  },
  {
   "cell_type": "code",
   "execution_count": null,
   "metadata": {},
   "outputs": [],
   "source": [
    "?eigen"
   ]
  },
  {
   "cell_type": "code",
   "execution_count": null,
   "metadata": {},
   "outputs": [],
   "source": [
    "eigen_A = eigen(A)"
   ]
  },
  {
   "cell_type": "code",
   "execution_count": null,
   "metadata": {},
   "outputs": [],
   "source": [
    "eigen_A.values"
   ]
  },
  {
   "cell_type": "code",
   "execution_count": null,
   "metadata": {},
   "outputs": [],
   "source": [
    "eigen_A.vectors[:, 1]"
   ]
  },
  {
   "cell_type": "markdown",
   "metadata": {},
   "source": [
    "## 1.2 Multiple dispatch (generic functions)"
   ]
  },
  {
   "cell_type": "markdown",
   "metadata": {},
   "source": [
    "$f( x ) = 2 ( x + 1 )^{ 2 }$"
   ]
  },
  {
   "cell_type": "code",
   "execution_count": null,
   "metadata": {},
   "outputs": [],
   "source": [
    "f(x) = 2(x + oneunit(x))^2"
   ]
  },
  {
   "cell_type": "code",
   "execution_count": null,
   "metadata": {},
   "outputs": [],
   "source": [
    "f(0)"
   ]
  },
  {
   "cell_type": "code",
   "execution_count": null,
   "metadata": {},
   "outputs": [],
   "source": [
    "f(-1)"
   ]
  },
  {
   "cell_type": "code",
   "execution_count": null,
   "metadata": {},
   "outputs": [],
   "source": [
    "f(0.0)"
   ]
  },
  {
   "cell_type": "code",
   "execution_count": null,
   "metadata": {},
   "outputs": [],
   "source": [
    "f(σ₁)"
   ]
  },
  {
   "cell_type": "code",
   "execution_count": null,
   "metadata": {},
   "outputs": [],
   "source": [
    "@code_typed f(0)"
   ]
  },
  {
   "cell_type": "code",
   "execution_count": null,
   "metadata": {},
   "outputs": [],
   "source": [
    "@code_typed f(0.0)"
   ]
  },
  {
   "cell_type": "code",
   "execution_count": null,
   "metadata": {},
   "outputs": [],
   "source": [
    "@code_typed f(σ₁)"
   ]
  },
  {
   "cell_type": "code",
   "execution_count": null,
   "metadata": {},
   "outputs": [],
   "source": [
    "@code_llvm f(0)"
   ]
  },
  {
   "cell_type": "markdown",
   "metadata": {},
   "source": [
    "# 2. Squeezed Fock State"
   ]
  },
  {
   "cell_type": "code",
   "execution_count": null,
   "metadata": {},
   "outputs": [],
   "source": [
    "b = FockBasis(50)"
   ]
  },
  {
   "cell_type": "code",
   "execution_count": null,
   "metadata": {},
   "outputs": [],
   "source": [
    "?FockBasis"
   ]
  },
  {
   "cell_type": "code",
   "execution_count": null,
   "metadata": {},
   "outputs": [],
   "source": [
    "a = destroy(b)\n",
    "at = create(b)\n",
    "H = 0.5(at^2 + a^2)"
   ]
  },
  {
   "cell_type": "code",
   "execution_count": null,
   "metadata": {},
   "outputs": [],
   "source": [
    "ψ₀ = fockstate(b, 3)"
   ]
  },
  {
   "cell_type": "code",
   "execution_count": null,
   "metadata": {},
   "outputs": [],
   "source": [
    "tout, ψₜ = timeevolution.schroedinger([0:0.25:1;], ψ₀, H)"
   ]
  },
  {
   "cell_type": "code",
   "execution_count": null,
   "metadata": {
    "scrolled": true
   },
   "outputs": [],
   "source": [
    "x = [-5:0.1:5;]\n",
    "\n",
    "for i in 1:4\n",
    "    subplot(2, 2, i)\n",
    "    Q = qfunc(ψₜ[i], x, x)\n",
    "    pcolor(x, x, Q)\n",
    "end\n",
    "\n",
    "tight_layout()"
   ]
  },
  {
   "cell_type": "code",
   "execution_count": null,
   "metadata": {},
   "outputs": [],
   "source": [
    "?qfunc"
   ]
  },
  {
   "cell_type": "markdown",
   "metadata": {},
   "source": [
    "### Again with different parameters"
   ]
  },
  {
   "cell_type": "code",
   "execution_count": null,
   "metadata": {},
   "outputs": [],
   "source": [
    "b = FockBasis(50)\n",
    "\n",
    "ψ₀ = fockstate(b, 10)\n",
    "tout, ψₜ = timeevolution.schroedinger([0:0.25:1;], ψ₀, H)\n",
    "\n",
    "x = [-12:0.1:12;]\n",
    "\n",
    "for i in 1:4\n",
    "    subplot(2, 2, i)\n",
    "    Q = qfunc(ψₜ[i], x, x)\n",
    "    pcolor(x, x, Q)\n",
    "end\n",
    "\n",
    "tight_layout()"
   ]
  },
  {
   "cell_type": "code",
   "execution_count": null,
   "metadata": {},
   "outputs": [],
   "source": [
    "?fockstate"
   ]
  },
  {
   "cell_type": "markdown",
   "metadata": {},
   "source": [
    "# 3. Spin-3/2 System"
   ]
  },
  {
   "cell_type": "code",
   "execution_count": null,
   "metadata": {},
   "outputs": [],
   "source": [
    "SpinBasis(3/2)"
   ]
  },
  {
   "cell_type": "code",
   "execution_count": null,
   "metadata": {},
   "outputs": [],
   "source": [
    "?SpinBasis"
   ]
  },
  {
   "cell_type": "code",
   "execution_count": null,
   "metadata": {},
   "outputs": [],
   "source": [
    "3 / 2"
   ]
  },
  {
   "cell_type": "code",
   "execution_count": null,
   "metadata": {},
   "outputs": [],
   "source": [
    "3//2"
   ]
  },
  {
   "cell_type": "code",
   "execution_count": null,
   "metadata": {},
   "outputs": [],
   "source": [
    "b = SpinBasis(3//2)"
   ]
  },
  {
   "cell_type": "code",
   "execution_count": null,
   "metadata": {},
   "outputs": [],
   "source": [
    "sm = sigmam(b)"
   ]
  },
  {
   "cell_type": "code",
   "execution_count": null,
   "metadata": {},
   "outputs": [],
   "source": [
    "?sigmam"
   ]
  },
  {
   "cell_type": "code",
   "execution_count": null,
   "metadata": {},
   "outputs": [],
   "source": [
    "H = 2 * sigmaz(b)"
   ]
  },
  {
   "cell_type": "code",
   "execution_count": null,
   "metadata": {},
   "outputs": [],
   "source": [
    "J = [sm]\n",
    "τ = [0:0.025:5;]\n",
    "ω = [-5:0.05:25;]"
   ]
  },
  {
   "cell_type": "code",
   "execution_count": null,
   "metadata": {},
   "outputs": [],
   "source": [
    "?dm"
   ]
  },
  {
   "cell_type": "code",
   "execution_count": null,
   "metadata": {
    "scrolled": true
   },
   "outputs": [],
   "source": [
    "?spinup"
   ]
  },
  {
   "cell_type": "code",
   "execution_count": null,
   "metadata": {},
   "outputs": [],
   "source": [
    "spinup(b)\n",
    "ρ₀ = dm(spinup(b))"
   ]
  },
  {
   "cell_type": "code",
   "execution_count": null,
   "metadata": {},
   "outputs": [],
   "source": [
    "corr = timecorrelations.correlation(τ, ρ₀, H, J, sigmap(b), sm)\n",
    "ω, S = timecorrelations.spectrum(ω, H, J, sm)"
   ]
  },
  {
   "cell_type": "code",
   "execution_count": null,
   "metadata": {},
   "outputs": [],
   "source": [
    "subplot(2, 1, 1)\n",
    "plot(τ, corr)\n",
    "xlabel(L\"\\tau\")\n",
    "ylabel(L\"\\langle \\sigma_+(\\tau) \\sigma_-(0)\\rangle\")\n",
    "subplot(2, 1, 2)\n",
    "plot(ω, S)\n",
    "xlabel(L\"\\omega\")\n",
    "ylabel(L\"S(\\omega)\")\n",
    "tight_layout()"
   ]
  },
  {
   "cell_type": "markdown",
   "metadata": {},
   "source": [
    "### Again with different parameters"
   ]
  },
  {
   "cell_type": "code",
   "execution_count": null,
   "metadata": {},
   "outputs": [],
   "source": [
    "b = SpinBasis(1)\n",
    "sm = sigmam(b)\n",
    "H = 2*sigmaz(b)\n",
    "J = [sm]\n",
    "τ = [0:0.025:5;]\n",
    "ω = [-5:0.05:25;]\n",
    "ρ0 = dm(spinup(b))\n",
    "corr = timecorrelations.correlation(τ, ρ0, H, J, sigmap(b), sm)\n",
    "ω, S = timecorrelations.spectrum(ω, H, J, sm)\n",
    "\n",
    "subplot(2, 1, 1)\n",
    "plot(τ, corr)\n",
    "xlabel(L\"\\tau\")\n",
    "ylabel(L\"\\langle \\sigma_+(\\tau) \\sigma_-(0)\\rangle\")\n",
    "subplot(2, 1, 2)\n",
    "plot(ω, S)\n",
    "xlabel(L\"\\omega\")\n",
    "ylabel(L\"S(\\omega)\")\n",
    "tight_layout()\n",
    "\n",
    "savefig(\"spin.svg\")"
   ]
  },
  {
   "cell_type": "markdown",
   "metadata": {},
   "source": [
    "# 3. `N`-Level System"
   ]
  },
  {
   "cell_type": "markdown",
   "metadata": {},
   "source": [
    "## `N` = 3"
   ]
  },
  {
   "cell_type": "code",
   "execution_count": null,
   "metadata": {},
   "outputs": [],
   "source": [
    "b = NLevelBasis(3)"
   ]
  },
  {
   "cell_type": "code",
   "execution_count": null,
   "metadata": {},
   "outputs": [],
   "source": [
    "?NLevelBasis"
   ]
  },
  {
   "cell_type": "code",
   "execution_count": null,
   "metadata": {},
   "outputs": [],
   "source": [
    "t₁₂ = transition(b, 1, 2)"
   ]
  },
  {
   "cell_type": "code",
   "execution_count": null,
   "metadata": {},
   "outputs": [],
   "source": [
    "t₂₃ = transition(b, 2, 3)\n",
    "t₃₁ = transition(b, 1, 3)\n",
    "H = 10 * (t₃₁ + dagger(t₃₁))\n",
    "J = [1.2 * t₂₃, 0.6 * t₁₂]"
   ]
  },
  {
   "cell_type": "code",
   "execution_count": null,
   "metadata": {},
   "outputs": [],
   "source": [
    "ψ₀ = basisstate(b, 1)"
   ]
  },
  {
   "cell_type": "code",
   "execution_count": null,
   "metadata": {},
   "outputs": [],
   "source": [
    "T = [0:0.01:10;];"
   ]
  },
  {
   "cell_type": "code",
   "execution_count": null,
   "metadata": {},
   "outputs": [],
   "source": [
    "tout, ψₜ = timeevolution.mcwf(T, ψ₀, H, J, seed=2)"
   ]
  },
  {
   "cell_type": "code",
   "execution_count": null,
   "metadata": {},
   "outputs": [],
   "source": [
    "?timeevolution.mcwf"
   ]
  },
  {
   "cell_type": "code",
   "execution_count": null,
   "metadata": {},
   "outputs": [],
   "source": [
    "plot(tout, expect(dm(basisstate(b, 3)), ψₜ), label=L\"$3\\rangle$\")\n",
    "plot(tout, expect(dm(basisstate(b, 2)), ψₜ), label=L\"$|2\\rangle$\")\n",
    "plot(tout, expect(dm(basisstate(b, 1)), ψₜ), label=L\"$|1\\rangle$\")\n",
    "xlabel(\"Time\")\n",
    "ylabel(\"Probability\")\n",
    "legend()\n",
    "tight_layout()\n",
    "\n",
    "savefig(\"nlevel.svg\")"
   ]
  },
  {
   "cell_type": "code",
   "execution_count": null,
   "metadata": {},
   "outputs": [],
   "source": [
    "b = NLevelBasis(4)\n",
    "t12 = transition(b, 1, 2)\n",
    "t23 = transition(b, 2, 3)\n",
    "t31 = transition(b, 1, 3)\n",
    "H = 10*(t31 + dagger(t31))\n",
    "J = [1.2*t23, 0.6*t12]\n",
    "psi0 = basisstate(b, 1)\n",
    "T = [0:0.01:10;]\n",
    "tout, psit = timeevolution.mcwf(T, psi0, H, J; seed=2)\n",
    "\n",
    "plot(tout, expect(dm(basisstate(b, 4)), psit), label=L\"$|4\\rangle$\")\n",
    "plot(tout, expect(dm(basisstate(b, 3)), psit), label=L\"$|3\\rangle$\")\n",
    "plot(tout, expect(dm(basisstate(b, 2)), psit), label=L\"$|2\\rangle$\")\n",
    "plot(tout, expect(dm(basisstate(b, 1)), psit), label=L\"$|1\\rangle$\")\n",
    "xlabel(\"Time\")\n",
    "ylabel(\"Probability\")\n",
    "legend()\n",
    "tight_layout()\n",
    "savefig(\"4level.svg\")"
   ]
  },
  {
   "cell_type": "markdown",
   "metadata": {},
   "source": [
    "# 4. Jaynes-Cummings System"
   ]
  },
  {
   "cell_type": "code",
   "execution_count": null,
   "metadata": {},
   "outputs": [],
   "source": [
    "b_spin = SpinBasis(1//2)\n",
    "b_fock = FockBasis(200)\n",
    "sp = sigmap(b_spin)\n",
    "sm = sigmam(b_spin)\n",
    "a = destroy(b_fock)\n",
    "at = create(b_fock)"
   ]
  },
  {
   "cell_type": "markdown",
   "metadata": {},
   "source": [
    "sp $\\otimes$ a"
   ]
  },
  {
   "cell_type": "code",
   "execution_count": null,
   "metadata": {
    "scrolled": true
   },
   "outputs": [],
   "source": []
  },
  {
   "cell_type": "code",
   "execution_count": null,
   "metadata": {},
   "outputs": [],
   "source": [
    "H = sp ⊗ a + sm ⊗ at"
   ]
  },
  {
   "cell_type": "code",
   "execution_count": null,
   "metadata": {},
   "outputs": [],
   "source": [
    "?coherentstate"
   ]
  },
  {
   "cell_type": "code",
   "execution_count": null,
   "metadata": {},
   "outputs": [],
   "source": [
    "T = [0:0.01:50;]\n",
    "ψ₀ = spindown(b_spin) ⊗ coherentstate(b_fock, 6)"
   ]
  },
  {
   "cell_type": "code",
   "execution_count": null,
   "metadata": {},
   "outputs": [],
   "source": [
    "tout, ψₜ = timeevolution.schroedinger(T, ψ₀, H)"
   ]
  },
  {
   "cell_type": "code",
   "execution_count": null,
   "metadata": {},
   "outputs": [],
   "source": [
    "?timeevolution.schroedinger"
   ]
  },
  {
   "cell_type": "code",
   "execution_count": null,
   "metadata": {},
   "outputs": [],
   "source": [
    "plot(tout, expect(1, sp * sm, ψₜ))\n",
    "xlabel(\"Time\")\n",
    "ylabel(\"Spin excitation\")\n",
    "tight_layout()"
   ]
  },
  {
   "cell_type": "markdown",
   "metadata": {},
   "source": [
    "### Again with different parameters"
   ]
  },
  {
   "cell_type": "code",
   "execution_count": null,
   "metadata": {
    "scrolled": true
   },
   "outputs": [],
   "source": [
    "b_spin = SpinBasis(1//2)\n",
    "b_fock = FockBasis(200)\n",
    "sp = sigmap(b_spin)\n",
    "sm = sigmam(b_spin)\n",
    "a = destroy(b_fock)\n",
    "at = create(b_fock)\n",
    "H = sp ⊗ a + sm ⊗ at\n",
    "T = [0:0.01:50;]\n",
    "ψ0 = spindown(b_spin) ⊗ coherentstate(b_fock, 6)\n",
    "tout, ψₜ = timeevolution.schroedinger(T, ψ₀, H)\n",
    "\n",
    "plot(tout, expect(1, sp * sm, ψₜ))\n",
    "xlabel(\"Time\")\n",
    "ylabel(\"Spin excitation\")\n",
    "tight_layout()\n",
    "savefig(\"composite.svg\")"
   ]
  },
  {
   "cell_type": "markdown",
   "metadata": {},
   "source": [
    "# 5. Closing remarks"
   ]
  },
  {
   "cell_type": "markdown",
   "metadata": {},
   "source": [
    "# Opinion from authors of package"
   ]
  },
  {
   "cell_type": "markdown",
   "metadata": {},
   "source": [
    "## Package in current state \"can be useful and efficient and is already quite stable\". The biggest >>disadvantage<< is that it is \"not as feature-rich as we would like it to be\"."
   ]
  },
  {
   "cell_type": "markdown",
   "metadata": {},
   "source": [
    "# If you want help and write some code, you are welcome :). QO.jl needs you ;)."
   ]
  },
  {
   "cell_type": "markdown",
   "metadata": {},
   "source": [
    "# If you use QO.jl, authors ask for citing this article"
   ]
  },
  {
   "cell_type": "markdown",
   "metadata": {},
   "source": [
    "# Sebastian Krämer, David Plankensteiner, Laurin Ostermann, Helmut Ritsch, QuantumOptics.jl: A Julia framework for simulating open quantum systems, Computer Physics Communications, Volume 227, June 2018, Pages 109-116, https://doi.org/10.1016/j.cpc.2018.02.004."
   ]
  },
  {
   "cell_type": "markdown",
   "metadata": {},
   "source": [
    "# If you use Julia, creators of language ask you to cite this article"
   ]
  },
  {
   "cell_type": "markdown",
   "metadata": {},
   "source": [
    "# Jeff Bezanson, Alan Edelman, Stefan Karpinski and Viral B. Shah Julia: A Fresh Approach to Numerical Computing,  (2017) SIAM Review, 59: 65–98. doi: 10.1137/141000671, url: http://julialang.org/publications/julia-fresh-approach-BEKS.pdf"
   ]
  },
  {
   "cell_type": "markdown",
   "metadata": {},
   "source": [
    "# and add your paper to this list https://julialang.org/publications/."
   ]
  },
  {
   "cell_type": "markdown",
   "metadata": {},
   "source": [
    "# 6. QuantumInformation.jl"
   ]
  },
  {
   "cell_type": "markdown",
   "metadata": {},
   "source": [
    "# Check it."
   ]
  },
  {
   "cell_type": "code",
   "execution_count": null,
   "metadata": {},
   "outputs": [],
   "source": [
    "using QuantumInformation"
   ]
  },
  {
   "cell_type": "markdown",
   "metadata": {},
   "source": [
    "$| 1 \\rangle$ for 2 dimensional system"
   ]
  },
  {
   "cell_type": "code",
   "execution_count": null,
   "metadata": {},
   "outputs": [],
   "source": [
    "ket(1, 2)"
   ]
  },
  {
   "cell_type": "code",
   "execution_count": null,
   "metadata": {},
   "outputs": [],
   "source": [
    "?ket"
   ]
  },
  {
   "cell_type": "markdown",
   "metadata": {},
   "source": [
    "$| 2 \\rangle$ for 2 dimensional system"
   ]
  },
  {
   "cell_type": "code",
   "execution_count": null,
   "metadata": {},
   "outputs": [],
   "source": [
    "ket(2, 2)"
   ]
  },
  {
   "cell_type": "code",
   "execution_count": null,
   "metadata": {},
   "outputs": [],
   "source": [
    "bra(1, 2)"
   ]
  },
  {
   "cell_type": "code",
   "execution_count": null,
   "metadata": {},
   "outputs": [],
   "source": [
    "bra(1, 2) * ket(1, 2)"
   ]
  },
  {
   "cell_type": "code",
   "execution_count": null,
   "metadata": {},
   "outputs": [],
   "source": [
    "ψ = (1 / √2) * (ket(1, 2) + ket(2, 2))"
   ]
  },
  {
   "cell_type": "code",
   "execution_count": null,
   "metadata": {},
   "outputs": [],
   "source": [
    "ϕ = (1 / 2) * ket(1, 2) + (√3 / 2) * ket(2, 2)"
   ]
  },
  {
   "cell_type": "code",
   "execution_count": null,
   "metadata": {},
   "outputs": [],
   "source": [
    "ϕ'ψ"
   ]
  },
  {
   "cell_type": "code",
   "execution_count": null,
   "metadata": {},
   "outputs": [],
   "source": [
    "√(ϕ'ϕ)"
   ]
  },
  {
   "cell_type": "code",
   "execution_count": null,
   "metadata": {},
   "outputs": [],
   "source": [
    "?ketbra  # Błąd <vakb| a nie <valb|"
   ]
  },
  {
   "cell_type": "code",
   "execution_count": null,
   "metadata": {},
   "outputs": [],
   "source": [
    "ket(2, 4) * bra(3, 4)"
   ]
  },
  {
   "cell_type": "code",
   "execution_count": null,
   "metadata": {},
   "outputs": [],
   "source": [
    "ket(2, 4) * ket(3, 4)'"
   ]
  },
  {
   "cell_type": "markdown",
   "metadata": {},
   "source": [
    "$| \\psi \\rangle \\langle \\psi |$"
   ]
  },
  {
   "cell_type": "code",
   "execution_count": null,
   "metadata": {},
   "outputs": [],
   "source": [
    "proj(ψ)"
   ]
  },
  {
   "cell_type": "code",
   "execution_count": null,
   "metadata": {},
   "outputs": [],
   "source": [
    "ψ * ψ'"
   ]
  },
  {
   "cell_type": "code",
   "execution_count": null,
   "metadata": {},
   "outputs": [],
   "source": [
    "max_entangled(4)"
   ]
  },
  {
   "cell_type": "code",
   "execution_count": null,
   "metadata": {},
   "outputs": [],
   "source": [
    "max_mixed(4)"
   ]
  },
  {
   "cell_type": "code",
   "execution_count": null,
   "metadata": {},
   "outputs": [],
   "source": [
    "werner_state(4, 0.4)"
   ]
  },
  {
   "cell_type": "markdown",
   "metadata": {},
   "source": [
    "$\\textrm{Tr}_{ A }( \\rho_{ A } \\otimes \\sigma_{ B } )$"
   ]
  },
  {
   "cell_type": "code",
   "execution_count": null,
   "metadata": {},
   "outputs": [],
   "source": [
    "ρ = [0.25 0.25im;\n",
    "    -0.25im 0.75]"
   ]
  },
  {
   "cell_type": "code",
   "execution_count": null,
   "metadata": {},
   "outputs": [],
   "source": [
    "σ = [0.4 0.1im; \n",
    "    -0.1im 0.6]"
   ]
  },
  {
   "cell_type": "code",
   "execution_count": null,
   "metadata": {},
   "outputs": [],
   "source": [
    "ρ ⊗ σ"
   ]
  },
  {
   "cell_type": "code",
   "execution_count": null,
   "metadata": {
    "scrolled": true
   },
   "outputs": [],
   "source": [
    "ptrace(ρ ⊗ σ, [2, 2], [2])"
   ]
  }
 ],
 "metadata": {
  "kernelspec": {
   "display_name": "Julia 1.1.1",
   "language": "julia",
   "name": "julia-1.1"
  },
  "language_info": {
   "file_extension": ".jl",
   "mimetype": "application/julia",
   "name": "julia",
   "version": "1.2.0"
  }
 },
 "nbformat": 4,
 "nbformat_minor": 2
}
